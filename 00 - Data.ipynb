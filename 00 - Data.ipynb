{
 "nbformat": 4,
 "nbformat_minor": 2,
 "metadata": {
  "language_info": {
   "name": "python",
   "codemirror_mode": {
    "name": "ipython",
    "version": 3
   },
   "version": "3.7.7-final"
  },
  "orig_nbformat": 2,
  "file_extension": ".py",
  "mimetype": "text/x-python",
  "name": "python",
  "npconvert_exporter": "python",
  "pygments_lexer": "ipython3",
  "version": 3,
  "kernelspec": {
   "name": "python37764bitea4d1a3708f74e468e924fc457415f88",
   "display_name": "Python 3.7.7 64-bit"
  }
 },
 "cells": [
  {
   "cell_type": "code",
   "execution_count": 106,
   "metadata": {},
   "outputs": [],
   "source": [
    "# Data files creation\n",
    "import numpy as np\n",
    "import pandas as pd"
   ]
  },
  {
   "cell_type": "code",
   "execution_count": 107,
   "metadata": {},
   "outputs": [],
   "source": [
    "sUrl = \"https://pubs.niaaa.nih.gov/publications/surveillance92/tab2_09.htm\"\n",
    "raw_data = pd.read_html(sUrl)[0][:-6]"
   ]
  },
  {
   "cell_type": "code",
   "execution_count": 108,
   "metadata": {},
   "outputs": [
    {
     "output_type": "execute_result",
     "data": {
      "text/plain": "            Beer  Wine Spirits\nState                         \nAlabama     1.20  0.22    0.58\nAlaska      1.31  0.54    1.16\nArizona     1.19  0.38    0.74\nArkansas    1.07  0.17    0.60\nCalifornia  1.05  0.55    0.73",
      "text/html": "<div>\n<style scoped>\n    .dataframe tbody tr th:only-of-type {\n        vertical-align: middle;\n    }\n\n    .dataframe tbody tr th {\n        vertical-align: top;\n    }\n\n    .dataframe thead th {\n        text-align: right;\n    }\n</style>\n<table border=\"1\" class=\"dataframe\">\n  <thead>\n    <tr style=\"text-align: right;\">\n      <th></th>\n      <th>Beer</th>\n      <th>Wine</th>\n      <th>Spirits</th>\n    </tr>\n    <tr>\n      <th>State</th>\n      <th></th>\n      <th></th>\n      <th></th>\n    </tr>\n  </thead>\n  <tbody>\n    <tr>\n      <th>Alabama</th>\n      <td>1.20</td>\n      <td>0.22</td>\n      <td>0.58</td>\n    </tr>\n    <tr>\n      <th>Alaska</th>\n      <td>1.31</td>\n      <td>0.54</td>\n      <td>1.16</td>\n    </tr>\n    <tr>\n      <th>Arizona</th>\n      <td>1.19</td>\n      <td>0.38</td>\n      <td>0.74</td>\n    </tr>\n    <tr>\n      <th>Arkansas</th>\n      <td>1.07</td>\n      <td>0.17</td>\n      <td>0.60</td>\n    </tr>\n    <tr>\n      <th>California</th>\n      <td>1.05</td>\n      <td>0.55</td>\n      <td>0.73</td>\n    </tr>\n  </tbody>\n</table>\n</div>"
     },
     "metadata": {},
     "execution_count": 108
    }
   ],
   "source": [
    "# Costruzione DataFrame coi dati che interessano\n",
    "alco2009 = pd.concat([raw_data['State or  other geographic area'], raw_data[\"Beer\"]['Per  capita'], raw_data[\"Wine\"]['Per  capita'], raw_data[\"Spirits\"]['Per  capita']], axis=1)\n",
    "alco2009.columns = [\"State\", \"Beer\", \"Wine\", \"Spirits\"]\n",
    "alco2009[\"State\"] = [x.replace(\"  \", \" \") for x in alco2009[\"State\"]]\n",
    "alco2009.set_index(\"State\", inplace=True)\n",
    "alco2009.sort_index(inplace=True)\n",
    "alco2009.to_csv(\"./code/alco2009.csv\")\n",
    "alco2009.head()"
   ]
  },
  {
   "cell_type": "code",
   "execution_count": 109,
   "metadata": {},
   "outputs": [],
   "source": [
    "raw_data = pd.read_html(\"./Data/states.html\")[0]\n",
    "raw_data.columns = [\"State\", \"Abbreviation\"]\n",
    "raw_data.set_index(\"State\", inplace=True)"
   ]
  },
  {
   "cell_type": "code",
   "execution_count": 110,
   "metadata": {},
   "outputs": [
    {
     "output_type": "stream",
     "name": "stdout",
     "text": "Index([], dtype='object', name='State')\nIndex([], dtype='object', name='State')\n"
    }
   ],
   "source": [
    "# Costruzione DataFrame coi dati che interessano\n",
    "states = raw_data.drop(['Commonwealth/Territory:'])[:-7]\n",
    "states.drop(\"Marshall Islands\", inplace=True)\n",
    "states.sort_index(inplace=True)\n",
    "states.to_csv(\"./code/states.csv\")\n",
    "# print(len(states.index), len(alco2009.index))\n",
    "# print(states.index[17:])\n",
    "# print(alco2009.index[17:])\n",
    "print(states.index[states.index!=alco2009.index])\n",
    "print(alco2009.index[states.index!=alco2009.index])"
   ]
  },
  {
   "cell_type": "code",
   "execution_count": 111,
   "metadata": {
    "tags": [
     "outputPrepend"
    ]
   },
   "outputs": [
    {
     "output_type": "stream",
     "name": "stdout",
     "text": "1034\n"
    }
   ],
   "source": [
    "sUrl = \"http://lib.stat.cmu.edu/datasets/boston\"\n",
    "from urllib.request import urlopen\n",
    "# Leggo testo url come lista stringhe utf-8\n",
    "with urlopen(sUrl) as infile:\n",
    "    raw_data = infile.read().decode(\"utf-8\").splitlines()\n",
    "raw_data = [x.strip() for x in raw_data]\n",
    "print(len(raw_data))"
   ]
  },
  {
   "cell_type": "code",
   "execution_count": 112,
   "metadata": {},
   "outputs": [
    {
     "output_type": "error",
     "ename": "SyntaxError",
     "evalue": "unexpected EOF while parsing (<ipython-input-112-8a7804d50f96>, line 6)",
     "traceback": [
      "\u001b[1;36m  File \u001b[1;32m\"<ipython-input-112-8a7804d50f96>\"\u001b[1;36m, line \u001b[1;32m6\u001b[0m\n\u001b[1;33m    print(len(columns)\u001b[0m\n\u001b[1;37m                      ^\u001b[0m\n\u001b[1;31mSyntaxError\u001b[0m\u001b[1;31m:\u001b[0m unexpected EOF while parsing\n"
     ]
    }
   ],
   "source": [
    "# Prendo nomi colonne\n",
    "nIndex = raw_data.index(\"Variables in order:\")\n",
    "columns = []\n",
    "for i in range(nIndex+1, nIndex+15):\n",
    "    columns.append(raw_data[i].split()[0].strip())\n",
    "print(len(columns)"
   ]
  },
  {
   "cell_type": "code",
   "execution_count": 113,
   "metadata": {
    "tags": [
     "outputPrepend"
    ]
   },
   "outputs": [],
   "source": [
    "# Carico i dati 2 linee dopo i nomi colonne\n",
    "nIndex = raw_data.index(\"Variables in order:\") + 16\n",
    "raw_data_frame = []\n",
    "for i in range(nIndex, len(raw_data), 2):\n",
    "    raw_data_frame.append(raw_data[i].split() + raw_data[i+1].split())"
   ]
  },
  {
   "cell_type": "code",
   "execution_count": 114,
   "metadata": {},
   "outputs": [
    {
     "output_type": "execute_result",
     "data": {
      "text/plain": "      CRIM    ZN  INDUS  CHAS    NOX     RM   AGE     DIS  RAD    TAX  \\\n0  0.00632  18.0   2.31     0  0.538  6.575  65.2  4.0900    1  296.0   \n1  0.02731   0.0   7.07     0  0.469  6.421  78.9  4.9671    2  242.0   \n2  0.02729   0.0   7.07     0  0.469  7.185  61.1  4.9671    2  242.0   \n3  0.03237   0.0   2.18     0  0.458  6.998  45.8  6.0622    3  222.0   \n4  0.06905   0.0   2.18     0  0.458  7.147  54.2  6.0622    3  222.0   \n\n   PTRATIO       B  LSTAT  MEDV  \n0     15.3  396.90   4.98  24.0  \n1     17.8  396.90   9.14  21.6  \n2     17.8  392.83   4.03  34.7  \n3     18.7  394.63   2.94  33.4  \n4     18.7  396.90   5.33  36.2  ",
      "text/html": "<div>\n<style scoped>\n    .dataframe tbody tr th:only-of-type {\n        vertical-align: middle;\n    }\n\n    .dataframe tbody tr th {\n        vertical-align: top;\n    }\n\n    .dataframe thead th {\n        text-align: right;\n    }\n</style>\n<table border=\"1\" class=\"dataframe\">\n  <thead>\n    <tr style=\"text-align: right;\">\n      <th></th>\n      <th>CRIM</th>\n      <th>ZN</th>\n      <th>INDUS</th>\n      <th>CHAS</th>\n      <th>NOX</th>\n      <th>RM</th>\n      <th>AGE</th>\n      <th>DIS</th>\n      <th>RAD</th>\n      <th>TAX</th>\n      <th>PTRATIO</th>\n      <th>B</th>\n      <th>LSTAT</th>\n      <th>MEDV</th>\n    </tr>\n  </thead>\n  <tbody>\n    <tr>\n      <th>0</th>\n      <td>0.00632</td>\n      <td>18.0</td>\n      <td>2.31</td>\n      <td>0</td>\n      <td>0.538</td>\n      <td>6.575</td>\n      <td>65.2</td>\n      <td>4.0900</td>\n      <td>1</td>\n      <td>296.0</td>\n      <td>15.3</td>\n      <td>396.90</td>\n      <td>4.98</td>\n      <td>24.0</td>\n    </tr>\n    <tr>\n      <th>1</th>\n      <td>0.02731</td>\n      <td>0.0</td>\n      <td>7.07</td>\n      <td>0</td>\n      <td>0.469</td>\n      <td>6.421</td>\n      <td>78.9</td>\n      <td>4.9671</td>\n      <td>2</td>\n      <td>242.0</td>\n      <td>17.8</td>\n      <td>396.90</td>\n      <td>9.14</td>\n      <td>21.6</td>\n    </tr>\n    <tr>\n      <th>2</th>\n      <td>0.02729</td>\n      <td>0.0</td>\n      <td>7.07</td>\n      <td>0</td>\n      <td>0.469</td>\n      <td>7.185</td>\n      <td>61.1</td>\n      <td>4.9671</td>\n      <td>2</td>\n      <td>242.0</td>\n      <td>17.8</td>\n      <td>392.83</td>\n      <td>4.03</td>\n      <td>34.7</td>\n    </tr>\n    <tr>\n      <th>3</th>\n      <td>0.03237</td>\n      <td>0.0</td>\n      <td>2.18</td>\n      <td>0</td>\n      <td>0.458</td>\n      <td>6.998</td>\n      <td>45.8</td>\n      <td>6.0622</td>\n      <td>3</td>\n      <td>222.0</td>\n      <td>18.7</td>\n      <td>394.63</td>\n      <td>2.94</td>\n      <td>33.4</td>\n    </tr>\n    <tr>\n      <th>4</th>\n      <td>0.06905</td>\n      <td>0.0</td>\n      <td>2.18</td>\n      <td>0</td>\n      <td>0.458</td>\n      <td>7.147</td>\n      <td>54.2</td>\n      <td>6.0622</td>\n      <td>3</td>\n      <td>222.0</td>\n      <td>18.7</td>\n      <td>396.90</td>\n      <td>5.33</td>\n      <td>36.2</td>\n    </tr>\n  </tbody>\n</table>\n</div>"
     },
     "metadata": {},
     "execution_count": 114
    }
   ],
   "source": [
    "# Creo dataframe da lista di liste indicando le colonne e che voglio tutti i dati convertiti a float32\n",
    "boston = pd.DataFrame(raw_data_frame, columns=columns, dtype=np.float64)\n",
    "boston[\"CHAS\"] = boston[\"CHAS\"].astype(np.int)\n",
    "boston[\"RAD\"] = boston[\"RAD\"].astype(np.int)\n",
    "boston.to_csv(\"./code/boston.csv\")\n",
    "boston.head()"
   ]
  },
  {
   "cell_type": "code",
   "execution_count": null,
   "metadata": {},
   "outputs": [],
   "source": []
  }
 ]
}