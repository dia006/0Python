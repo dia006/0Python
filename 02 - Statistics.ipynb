{
 "nbformat": 4,
 "nbformat_minor": 2,
 "metadata": {
  "language_info": {
   "name": "python",
   "codemirror_mode": {
    "name": "ipython",
    "version": 3
   },
   "version": "3.8.2-final"
  },
  "orig_nbformat": 2,
  "file_extension": ".py",
  "mimetype": "text/x-python",
  "name": "python",
  "npconvert_exporter": "python",
  "pygments_lexer": "ipython3",
  "version": 3,
  "kernelspec": {
   "name": "python38264bit31d36ff6770a407abe3dcdda56783d75",
   "display_name": "Python 3.8.2 64-bit"
  }
 },
 "cells": [
  {
   "cell_type": "code",
   "execution_count": 154,
   "metadata": {},
   "outputs": [
    {
     "output_type": "execute_result",
     "data": {
      "text/plain": "              Beer  Wine  Spirits\nState   Year                     \nAlabama 2009  1.20  0.22     0.58\n        2008  1.24  0.22     0.58\n        2007  1.24  0.22     0.56\n        2006  1.22  0.21     0.55\n        2005  1.18  0.20     0.53",
      "text/html": "<div>\n<style scoped>\n    .dataframe tbody tr th:only-of-type {\n        vertical-align: middle;\n    }\n\n    .dataframe tbody tr th {\n        vertical-align: top;\n    }\n\n    .dataframe thead th {\n        text-align: right;\n    }\n</style>\n<table border=\"1\" class=\"dataframe\">\n  <thead>\n    <tr style=\"text-align: right;\">\n      <th></th>\n      <th></th>\n      <th>Beer</th>\n      <th>Wine</th>\n      <th>Spirits</th>\n    </tr>\n    <tr>\n      <th>State</th>\n      <th>Year</th>\n      <th></th>\n      <th></th>\n      <th></th>\n    </tr>\n  </thead>\n  <tbody>\n    <tr>\n      <th rowspan=\"5\" valign=\"top\">Alabama</th>\n      <th>2009</th>\n      <td>1.20</td>\n      <td>0.22</td>\n      <td>0.58</td>\n    </tr>\n    <tr>\n      <th>2008</th>\n      <td>1.24</td>\n      <td>0.22</td>\n      <td>0.58</td>\n    </tr>\n    <tr>\n      <th>2007</th>\n      <td>1.24</td>\n      <td>0.22</td>\n      <td>0.56</td>\n    </tr>\n    <tr>\n      <th>2006</th>\n      <td>1.22</td>\n      <td>0.21</td>\n      <td>0.55</td>\n    </tr>\n    <tr>\n      <th>2005</th>\n      <td>1.18</td>\n      <td>0.20</td>\n      <td>0.53</td>\n    </tr>\n  </tbody>\n</table>\n</div>"
     },
     "metadata": {},
     "execution_count": 154
    }
   ],
   "source": [
    "import numpy as np\n",
    "import pandas as pd\n",
    "\n",
    "alco = pd.read_csv(\"./code/niaaa-report.csv\")\n",
    "# Riempimento valori mancanti e impostazione indice\n",
    "alco = alco.fillna(method=\"ffill\", axis=0).set_index([\"State\", \"Year\"])\n",
    "alco.head()"
   ]
  },
  {
   "cell_type": "code",
   "execution_count": 155,
   "metadata": {},
   "outputs": [],
   "source": [
    "# Creazione serie che vogliamo analizzare statisticamente\n",
    "beer_seriesNY = alco.loc[\"New York\"][\"Beer\"]\n",
    "beer_seriesCA = alco.loc[\"California\"][\"Beer\"]"
   ]
  },
  {
   "cell_type": "code",
   "execution_count": 156,
   "metadata": {},
   "outputs": [
    {
     "output_type": "stream",
     "name": "stdout",
     "text": "0.9709778539165477 0.9709778539165477\n"
    }
   ],
   "source": [
    "# Correlazione consumo birra tra NY e CA\n",
    "print(beer_seriesNY.corr(beer_seriesCA), beer_seriesCA.corr(beer_seriesNY ))"
   ]
  },
  {
   "cell_type": "code",
   "execution_count": 157,
   "metadata": {},
   "outputs": [
    {
     "output_type": "stream",
     "name": "stdout",
     "text": "0.01743816287878787 0.01743816287878787\n"
    }
   ],
   "source": [
    "# Covarianza consumo birra tra CA e NY\n",
    "print(beer_seriesNY.cov(beer_seriesCA), beer_seriesCA.cov(beer_seriesNY))"
   ]
  },
  {
   "cell_type": "code",
   "execution_count": 158,
   "metadata": {},
   "outputs": [
    {
     "output_type": "stream",
     "name": "stdout",
     "text": "0.16457291292976317 [0.16457291292976317, 0.32838100586311286] 0.32838100586311286\n"
    }
   ],
   "source": [
    "# Skewness di ogni serie\n",
    "print(beer_seriesCA.skew(), [x.skew() for x in (beer_seriesCA, beer_seriesNY)], beer_seriesNY.skew())"
   ]
  },
  {
   "cell_type": "code",
   "execution_count": 159,
   "metadata": {},
   "outputs": [
    {
     "output_type": "execute_result",
     "data": {
      "text/plain": "      Beer  Wine  Spirits\nYear                     \n2009  0.91  0.46     0.69\n2008  0.92  0.47     0.67\n2007  0.92  0.46     0.68\n2006  0.88  0.45     0.65\n2005  0.90  0.43     0.64",
      "text/html": "<div>\n<style scoped>\n    .dataframe tbody tr th:only-of-type {\n        vertical-align: middle;\n    }\n\n    .dataframe tbody tr th {\n        vertical-align: top;\n    }\n\n    .dataframe thead th {\n        text-align: right;\n    }\n</style>\n<table border=\"1\" class=\"dataframe\">\n  <thead>\n    <tr style=\"text-align: right;\">\n      <th></th>\n      <th>Beer</th>\n      <th>Wine</th>\n      <th>Spirits</th>\n    </tr>\n    <tr>\n      <th>Year</th>\n      <th></th>\n      <th></th>\n      <th></th>\n    </tr>\n  </thead>\n  <tbody>\n    <tr>\n      <th>2009</th>\n      <td>0.91</td>\n      <td>0.46</td>\n      <td>0.69</td>\n    </tr>\n    <tr>\n      <th>2008</th>\n      <td>0.92</td>\n      <td>0.47</td>\n      <td>0.67</td>\n    </tr>\n    <tr>\n      <th>2007</th>\n      <td>0.92</td>\n      <td>0.46</td>\n      <td>0.68</td>\n    </tr>\n    <tr>\n      <th>2006</th>\n      <td>0.88</td>\n      <td>0.45</td>\n      <td>0.65</td>\n    </tr>\n    <tr>\n      <th>2005</th>\n      <td>0.90</td>\n      <td>0.43</td>\n      <td>0.64</td>\n    </tr>\n  </tbody>\n</table>\n</div>"
     },
     "metadata": {},
     "execution_count": 159
    }
   ],
   "source": [
    "frameNY = alco.loc[\"New York\"]\n",
    "frameNY.head()"
   ]
  },
  {
   "cell_type": "code",
   "execution_count": 160,
   "metadata": {},
   "outputs": [
    {
     "output_type": "execute_result",
     "data": {
      "text/plain": "Beer       0.328381\nWine       0.127308\nSpirits    0.656699\ndtype: float64"
     },
     "metadata": {},
     "execution_count": 160
    }
   ],
   "source": [
    "frameNY.skew()"
   ]
  },
  {
   "cell_type": "code",
   "execution_count": 161,
   "metadata": {},
   "outputs": [
    {
     "output_type": "execute_result",
     "data": {
      "text/plain": "             Beer      Wine   Spirits\nBeer     1.000000  0.470690  0.908969\nWine     0.470690  1.000000  0.611923\nSpirits  0.908969  0.611923  1.000000",
      "text/html": "<div>\n<style scoped>\n    .dataframe tbody tr th:only-of-type {\n        vertical-align: middle;\n    }\n\n    .dataframe tbody tr th {\n        vertical-align: top;\n    }\n\n    .dataframe thead th {\n        text-align: right;\n    }\n</style>\n<table border=\"1\" class=\"dataframe\">\n  <thead>\n    <tr style=\"text-align: right;\">\n      <th></th>\n      <th>Beer</th>\n      <th>Wine</th>\n      <th>Spirits</th>\n    </tr>\n  </thead>\n  <tbody>\n    <tr>\n      <th>Beer</th>\n      <td>1.000000</td>\n      <td>0.470690</td>\n      <td>0.908969</td>\n    </tr>\n    <tr>\n      <th>Wine</th>\n      <td>0.470690</td>\n      <td>1.000000</td>\n      <td>0.611923</td>\n    </tr>\n    <tr>\n      <th>Spirits</th>\n      <td>0.908969</td>\n      <td>0.611923</td>\n      <td>1.000000</td>\n    </tr>\n  </tbody>\n</table>\n</div>"
     },
     "metadata": {},
     "execution_count": 161
    }
   ],
   "source": [
    "frameNY.corr()"
   ]
  },
  {
   "cell_type": "code",
   "execution_count": 162,
   "metadata": {},
   "outputs": [
    {
     "output_type": "execute_result",
     "data": {
      "text/plain": "             Beer      Wine   Spirits\nBeer     0.016103  0.002872  0.026020\nWine     0.002872  0.002312  0.006638\nSpirits  0.026020  0.006638  0.050888",
      "text/html": "<div>\n<style scoped>\n    .dataframe tbody tr th:only-of-type {\n        vertical-align: middle;\n    }\n\n    .dataframe tbody tr th {\n        vertical-align: top;\n    }\n\n    .dataframe thead th {\n        text-align: right;\n    }\n</style>\n<table border=\"1\" class=\"dataframe\">\n  <thead>\n    <tr style=\"text-align: right;\">\n      <th></th>\n      <th>Beer</th>\n      <th>Wine</th>\n      <th>Spirits</th>\n    </tr>\n  </thead>\n  <tbody>\n    <tr>\n      <th>Beer</th>\n      <td>0.016103</td>\n      <td>0.002872</td>\n      <td>0.026020</td>\n    </tr>\n    <tr>\n      <th>Wine</th>\n      <td>0.002872</td>\n      <td>0.002312</td>\n      <td>0.006638</td>\n    </tr>\n    <tr>\n      <th>Spirits</th>\n      <td>0.026020</td>\n      <td>0.006638</td>\n      <td>0.050888</td>\n    </tr>\n  </tbody>\n</table>\n</div>"
     },
     "metadata": {},
     "execution_count": 162
    }
   ],
   "source": [
    "frameNY.cov()"
   ]
  },
  {
   "cell_type": "code",
   "execution_count": 163,
   "metadata": {},
   "outputs": [
    {
     "output_type": "execute_result",
     "data": {
      "text/plain": "                        ESTIMATESBASE2000  POPESTIMATE2000  POPESTIMATE2001  \\\nSTNAME  CTYNAME                                                               \nAlabama Alabama                   4447207          4452173          4467634   \n        Autauga County              43751            44021            44889   \n        Baldwin County             140416           141342           144875   \n        Barbour County              29042            29015            28863   \n        Bibb County                 19856            19913            21028   \n\n                        POPESTIMATE2002  POPESTIMATE2003  POPESTIMATE2004  \\\nSTNAME  CTYNAME                                                             \nAlabama Alabama                 4480089          4503491          4530729   \n        Autauga County            45909            46800            48366   \n        Baldwin County           147957           151509           156266   \n        Barbour County            28653            28594            28287   \n        Bibb County               21199            21399            21721   \n\n                        POPESTIMATE2005  POPESTIMATE2006  POPESTIMATE2007  \\\nSTNAME  CTYNAME                                                             \nAlabama Alabama                 4569805          4628981          4672840   \n        Autauga County            49676            51328            52405   \n        Baldwin County           162183           168121           172404   \n        Barbour County            28027            27861            27757   \n        Bibb County               22042            22099            22438   \n\n                        POPESTIMATE2008  POPESTIMATE2009  CENSUS2010POP  \\\nSTNAME  CTYNAME                                                           \nAlabama Alabama                 4718206          4757938        4779736   \n        Autauga County            53277            54135          54571   \n        Baldwin County           175827           179406         182265   \n        Barbour County            27808            27657          27457   \n        Bibb County               22705            22941          22915   \n\n                        POPESTIMATE2010  \nSTNAME  CTYNAME                          \nAlabama Alabama                 4785298  \n        Autauga County            54632  \n        Baldwin County           183195  \n        Barbour County            27411  \n        Bibb County               22867  ",
      "text/html": "<div>\n<style scoped>\n    .dataframe tbody tr th:only-of-type {\n        vertical-align: middle;\n    }\n\n    .dataframe tbody tr th {\n        vertical-align: top;\n    }\n\n    .dataframe thead th {\n        text-align: right;\n    }\n</style>\n<table border=\"1\" class=\"dataframe\">\n  <thead>\n    <tr style=\"text-align: right;\">\n      <th></th>\n      <th></th>\n      <th>ESTIMATESBASE2000</th>\n      <th>POPESTIMATE2000</th>\n      <th>POPESTIMATE2001</th>\n      <th>POPESTIMATE2002</th>\n      <th>POPESTIMATE2003</th>\n      <th>POPESTIMATE2004</th>\n      <th>POPESTIMATE2005</th>\n      <th>POPESTIMATE2006</th>\n      <th>POPESTIMATE2007</th>\n      <th>POPESTIMATE2008</th>\n      <th>POPESTIMATE2009</th>\n      <th>CENSUS2010POP</th>\n      <th>POPESTIMATE2010</th>\n    </tr>\n    <tr>\n      <th>STNAME</th>\n      <th>CTYNAME</th>\n      <th></th>\n      <th></th>\n      <th></th>\n      <th></th>\n      <th></th>\n      <th></th>\n      <th></th>\n      <th></th>\n      <th></th>\n      <th></th>\n      <th></th>\n      <th></th>\n      <th></th>\n    </tr>\n  </thead>\n  <tbody>\n    <tr>\n      <th rowspan=\"5\" valign=\"top\">Alabama</th>\n      <th>Alabama</th>\n      <td>4447207</td>\n      <td>4452173</td>\n      <td>4467634</td>\n      <td>4480089</td>\n      <td>4503491</td>\n      <td>4530729</td>\n      <td>4569805</td>\n      <td>4628981</td>\n      <td>4672840</td>\n      <td>4718206</td>\n      <td>4757938</td>\n      <td>4779736</td>\n      <td>4785298</td>\n    </tr>\n    <tr>\n      <th>Autauga County</th>\n      <td>43751</td>\n      <td>44021</td>\n      <td>44889</td>\n      <td>45909</td>\n      <td>46800</td>\n      <td>48366</td>\n      <td>49676</td>\n      <td>51328</td>\n      <td>52405</td>\n      <td>53277</td>\n      <td>54135</td>\n      <td>54571</td>\n      <td>54632</td>\n    </tr>\n    <tr>\n      <th>Baldwin County</th>\n      <td>140416</td>\n      <td>141342</td>\n      <td>144875</td>\n      <td>147957</td>\n      <td>151509</td>\n      <td>156266</td>\n      <td>162183</td>\n      <td>168121</td>\n      <td>172404</td>\n      <td>175827</td>\n      <td>179406</td>\n      <td>182265</td>\n      <td>183195</td>\n    </tr>\n    <tr>\n      <th>Barbour County</th>\n      <td>29042</td>\n      <td>29015</td>\n      <td>28863</td>\n      <td>28653</td>\n      <td>28594</td>\n      <td>28287</td>\n      <td>28027</td>\n      <td>27861</td>\n      <td>27757</td>\n      <td>27808</td>\n      <td>27657</td>\n      <td>27457</td>\n      <td>27411</td>\n    </tr>\n    <tr>\n      <th>Bibb County</th>\n      <td>19856</td>\n      <td>19913</td>\n      <td>21028</td>\n      <td>21199</td>\n      <td>21399</td>\n      <td>21721</td>\n      <td>22042</td>\n      <td>22099</td>\n      <td>22438</td>\n      <td>22705</td>\n      <td>22941</td>\n      <td>22915</td>\n      <td>22867</td>\n    </tr>\n  </tbody>\n</table>\n</div>"
     },
     "metadata": {},
     "execution_count": 163
    }
   ],
   "source": [
    "pop = pd.read_csv(\"./code/co-est00int-tot.csv\", index_col=[\"STNAME\",\"CTYNAME\"], usecols=['STNAME', 'CTYNAME','ESTIMATESBASE2000', 'POPESTIMATE2000', 'POPESTIMATE2001',\n",
    "       'POPESTIMATE2002', 'POPESTIMATE2003', 'POPESTIMATE2004',\n",
    "       'POPESTIMATE2005', 'POPESTIMATE2006', 'POPESTIMATE2007',\n",
    "       'POPESTIMATE2008', 'POPESTIMATE2009', 'CENSUS2010POP',\n",
    "       'POPESTIMATE2010'])\n",
    "pop.head()"
   ]
  },
  {
   "cell_type": "code",
   "execution_count": 164,
   "metadata": {},
   "outputs": [
    {
     "output_type": "execute_result",
     "data": {
      "text/plain": "2000    19001780\n2001    19082838\n2002    19137800\n2003    19175939\n2004    19171567\n2005    19132610\n2006    19104631\n2007    19132335\n2008    19212436\n2009    19307066\nName: New York, dtype: int64"
     },
     "metadata": {},
     "execution_count": 164
    }
   ],
   "source": [
    "# Scegli dati di New York rimuovendo dati non validi per 2000 e 2010\n",
    "pop_seriesNY = pop.loc[\"New York\"].loc[\"New York\"][1:-2]\n",
    "# Modifica l'indice da una stringa a un interno (l'anno)\n",
    "pop_seriesNY.index = pop_seriesNY.index.str[-4:].astype(int)\n",
    "# Cambia ordinamento dati da\n",
    "pop_seriesNY"
   ]
  },
  {
   "cell_type": "code",
   "execution_count": 165,
   "metadata": {},
   "outputs": [
    {
     "output_type": "execute_result",
     "data": {
      "text/plain": "Beer      -0.143813\nWine       0.589849\nSpirits    0.675142\ndtype: float64"
     },
     "metadata": {},
     "execution_count": 165
    }
   ],
   "source": [
    "# Calcola correlazione tra il consumo di alcol e la popolazione di New York\n",
    "frameNY.loc[2009:2000].corrwith(pop_seriesNY)"
   ]
  },
  {
   "cell_type": "code",
   "execution_count": 166,
   "metadata": {},
   "outputs": [
    {
     "output_type": "execute_result",
     "data": {
      "text/plain": "      Beer  Wine  Spirits\nYear                     \n2009  0.91  0.46     0.69\n2008  0.92  0.47     0.67\n2007  0.92  0.46     0.68\n2006  0.88  0.45     0.65\n2005  0.90  0.43     0.64\n2004  0.91  0.41     0.62\n2003  0.93  0.40     0.61\n2002  0.95  0.38     0.59\n2001  0.96  0.37     0.56\n2000  0.92  0.38     0.58",
      "text/html": "<div>\n<style scoped>\n    .dataframe tbody tr th:only-of-type {\n        vertical-align: middle;\n    }\n\n    .dataframe tbody tr th {\n        vertical-align: top;\n    }\n\n    .dataframe thead th {\n        text-align: right;\n    }\n</style>\n<table border=\"1\" class=\"dataframe\">\n  <thead>\n    <tr style=\"text-align: right;\">\n      <th></th>\n      <th>Beer</th>\n      <th>Wine</th>\n      <th>Spirits</th>\n    </tr>\n    <tr>\n      <th>Year</th>\n      <th></th>\n      <th></th>\n      <th></th>\n    </tr>\n  </thead>\n  <tbody>\n    <tr>\n      <th>2009</th>\n      <td>0.91</td>\n      <td>0.46</td>\n      <td>0.69</td>\n    </tr>\n    <tr>\n      <th>2008</th>\n      <td>0.92</td>\n      <td>0.47</td>\n      <td>0.67</td>\n    </tr>\n    <tr>\n      <th>2007</th>\n      <td>0.92</td>\n      <td>0.46</td>\n      <td>0.68</td>\n    </tr>\n    <tr>\n      <th>2006</th>\n      <td>0.88</td>\n      <td>0.45</td>\n      <td>0.65</td>\n    </tr>\n    <tr>\n      <th>2005</th>\n      <td>0.90</td>\n      <td>0.43</td>\n      <td>0.64</td>\n    </tr>\n    <tr>\n      <th>2004</th>\n      <td>0.91</td>\n      <td>0.41</td>\n      <td>0.62</td>\n    </tr>\n    <tr>\n      <th>2003</th>\n      <td>0.93</td>\n      <td>0.40</td>\n      <td>0.61</td>\n    </tr>\n    <tr>\n      <th>2002</th>\n      <td>0.95</td>\n      <td>0.38</td>\n      <td>0.59</td>\n    </tr>\n    <tr>\n      <th>2001</th>\n      <td>0.96</td>\n      <td>0.37</td>\n      <td>0.56</td>\n    </tr>\n    <tr>\n      <th>2000</th>\n      <td>0.92</td>\n      <td>0.38</td>\n      <td>0.58</td>\n    </tr>\n  </tbody>\n</table>\n</div>"
     },
     "metadata": {},
     "execution_count": 166
    }
   ],
   "source": [
    "# Controllo significatività della correlazione\n",
    "from scipy.stats import pearsonr\n",
    "# Allinea manualmente gli indici\n",
    "pop_sorted = pop_seriesNY.sort_index(ascending=False)\n",
    "alco_10 = alco.loc[\"New York\"][:10]\n",
    "alco_10"
   ]
  },
  {
   "cell_type": "code",
   "execution_count": 167,
   "metadata": {},
   "outputs": [
    {
     "output_type": "execute_result",
     "data": {
      "text/plain": "[('Beer', -0.14381251680815543, 0.6918361386691005),\n ('Wine', 0.5898489836641843, 0.0726763414486624),\n ('Spirits', 0.6751416540344424, 0.032182433155739425)]"
     },
     "metadata": {},
     "execution_count": 167
    }
   ],
   "source": [
    "# Per ogni colonna di alco_10 prendi serie consumo e popolazione e ritorna tupla (bev,) + tupla di pearsonr (r, p-value)\n",
    "corrs = [(bev,) + pearsonr(alco_10[bev], pop_sorted) for bev in alco_10.columns]\n",
    "corrs"
   ]
  },
  {
   "cell_type": "code",
   "execution_count": 168,
   "metadata": {},
   "outputs": [
    {
     "output_type": "execute_result",
     "data": {
      "text/plain": "                r   p-value\nbev                        \nBeer    -0.143813  0.691836\nWine     0.589849  0.072676\nSpirits  0.675142  0.032182",
      "text/html": "<div>\n<style scoped>\n    .dataframe tbody tr th:only-of-type {\n        vertical-align: middle;\n    }\n\n    .dataframe tbody tr th {\n        vertical-align: top;\n    }\n\n    .dataframe thead th {\n        text-align: right;\n    }\n</style>\n<table border=\"1\" class=\"dataframe\">\n  <thead>\n    <tr style=\"text-align: right;\">\n      <th></th>\n      <th>r</th>\n      <th>p-value</th>\n    </tr>\n    <tr>\n      <th>bev</th>\n      <th></th>\n      <th></th>\n    </tr>\n  </thead>\n  <tbody>\n    <tr>\n      <th>Beer</th>\n      <td>-0.143813</td>\n      <td>0.691836</td>\n    </tr>\n    <tr>\n      <th>Wine</th>\n      <td>0.589849</td>\n      <td>0.072676</td>\n    </tr>\n    <tr>\n      <th>Spirits</th>\n      <td>0.675142</td>\n      <td>0.032182</td>\n    </tr>\n  </tbody>\n</table>\n</div>"
     },
     "metadata": {},
     "execution_count": 168
    }
   ],
   "source": [
    "# Crea DataFrame da tupla indicando colonne e indice\n",
    "pd.DataFrame(corrs, columns=(\"bev\", \"r\", \"p-value\")).set_index(\"bev\")"
   ]
  },
  {
   "cell_type": "code",
   "execution_count": 169,
   "metadata": {},
   "outputs": [
    {
     "output_type": "execute_result",
     "data": {
      "text/plain": "              Beer  Wine  Spirits\nState   Year                     \nAlabama 2009  1.20  0.22     0.58\n        2008  1.24  0.22     0.58\n        2007  1.24  0.22     0.56\n        2006  1.22  0.21     0.55\n        2005  1.18  0.20     0.53\n...            ...   ...      ...\nWyoming 1981  1.91  0.24     1.27\n        1980  1.85  0.24     1.32\n        1979  1.86  0.22     1.30\n        1978  1.82  0.22     1.36\n        1977  1.79  0.21     1.32\n\n[1683 rows x 3 columns]",
      "text/html": "<div>\n<style scoped>\n    .dataframe tbody tr th:only-of-type {\n        vertical-align: middle;\n    }\n\n    .dataframe tbody tr th {\n        vertical-align: top;\n    }\n\n    .dataframe thead th {\n        text-align: right;\n    }\n</style>\n<table border=\"1\" class=\"dataframe\">\n  <thead>\n    <tr style=\"text-align: right;\">\n      <th></th>\n      <th></th>\n      <th>Beer</th>\n      <th>Wine</th>\n      <th>Spirits</th>\n    </tr>\n    <tr>\n      <th>State</th>\n      <th>Year</th>\n      <th></th>\n      <th></th>\n      <th></th>\n    </tr>\n  </thead>\n  <tbody>\n    <tr>\n      <th rowspan=\"5\" valign=\"top\">Alabama</th>\n      <th>2009</th>\n      <td>1.20</td>\n      <td>0.22</td>\n      <td>0.58</td>\n    </tr>\n    <tr>\n      <th>2008</th>\n      <td>1.24</td>\n      <td>0.22</td>\n      <td>0.58</td>\n    </tr>\n    <tr>\n      <th>2007</th>\n      <td>1.24</td>\n      <td>0.22</td>\n      <td>0.56</td>\n    </tr>\n    <tr>\n      <th>2006</th>\n      <td>1.22</td>\n      <td>0.21</td>\n      <td>0.55</td>\n    </tr>\n    <tr>\n      <th>2005</th>\n      <td>1.18</td>\n      <td>0.20</td>\n      <td>0.53</td>\n    </tr>\n    <tr>\n      <th>...</th>\n      <th>...</th>\n      <td>...</td>\n      <td>...</td>\n      <td>...</td>\n    </tr>\n    <tr>\n      <th rowspan=\"5\" valign=\"top\">Wyoming</th>\n      <th>1981</th>\n      <td>1.91</td>\n      <td>0.24</td>\n      <td>1.27</td>\n    </tr>\n    <tr>\n      <th>1980</th>\n      <td>1.85</td>\n      <td>0.24</td>\n      <td>1.32</td>\n    </tr>\n    <tr>\n      <th>1979</th>\n      <td>1.86</td>\n      <td>0.22</td>\n      <td>1.30</td>\n    </tr>\n    <tr>\n      <th>1978</th>\n      <td>1.82</td>\n      <td>0.22</td>\n      <td>1.36</td>\n    </tr>\n    <tr>\n      <th>1977</th>\n      <td>1.79</td>\n      <td>0.21</td>\n      <td>1.32</td>\n    </tr>\n  </tbody>\n</table>\n<p>1683 rows × 3 columns</p>\n</div>"
     },
     "metadata": {},
     "execution_count": 169
    }
   ],
   "source": [
    "alco2009 = alco\n",
    "alco2009"
   ]
  },
  {
   "cell_type": "code",
   "execution_count": null,
   "metadata": {},
   "outputs": [],
   "source": []
  }
 ]
}