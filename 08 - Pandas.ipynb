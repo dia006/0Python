{
 "nbformat": 4,
 "nbformat_minor": 2,
 "metadata": {
  "language_info": {
   "name": "python",
   "codemirror_mode": {
    "name": "ipython",
    "version": 3
   },
   "version": "3.7.7-final"
  },
  "orig_nbformat": 2,
  "file_extension": ".py",
  "mimetype": "text/x-python",
  "name": "python",
  "npconvert_exporter": "python",
  "pygments_lexer": "ipython3",
  "version": 3,
  "kernelspec": {
   "name": "python37764bitea4d1a3708f74e468e924fc457415f88",
   "display_name": "Python 3.7.7 64-bit"
  }
 },
 "cells": [
  {
   "cell_type": "code",
   "execution_count": 202,
   "metadata": {},
   "outputs": [],
   "source": [
    "# Pandas foundations\n",
    "import numpy as np\n",
    "import pandas as pd"
   ]
  },
  {
   "cell_type": "code",
   "execution_count": 203,
   "metadata": {},
   "outputs": [
    {
     "output_type": "execute_result",
     "data": {
      "text/plain": "                                            color      director_name  \\\nmovie_title                                                            \nAvatar                                      Color      James Cameron   \nPirates of the Caribbean: At World's End    Color     Gore Verbinski   \nSpectre                                     Color         Sam Mendes   \nThe Dark Knight Rises                       Color  Christopher Nolan   \nStar Wars: Episode VII - The Force Awakens    NaN        Doug Walker   \n\n                                            num_critic_for_reviews  duration  \\\nmovie_title                                                                    \nAvatar                                                       723.0     178.0   \nPirates of the Caribbean: At World's End                     302.0     169.0   \nSpectre                                                      602.0     148.0   \nThe Dark Knight Rises                                        813.0     164.0   \nStar Wars: Episode VII - The Force Awakens                     NaN       NaN   \n\n                                            director_facebook_likes  \\\nmovie_title                                                           \nAvatar                                                          0.0   \nPirates of the Caribbean: At World's End                      563.0   \nSpectre                                                         0.0   \nThe Dark Knight Rises                                       22000.0   \nStar Wars: Episode VII - The Force Awakens                    131.0   \n\n                                            actor_3_facebook_likes  \\\nmovie_title                                                          \nAvatar                                                       855.0   \nPirates of the Caribbean: At World's End                    1000.0   \nSpectre                                                      161.0   \nThe Dark Knight Rises                                      23000.0   \nStar Wars: Episode VII - The Force Awakens                     NaN   \n\n                                                actor_2_name  \\\nmovie_title                                                    \nAvatar                                      Joel David Moore   \nPirates of the Caribbean: At World's End       Orlando Bloom   \nSpectre                                         Rory Kinnear   \nThe Dark Knight Rises                         Christian Bale   \nStar Wars: Episode VII - The Force Awakens        Rob Walker   \n\n                                            actor_1_facebook_likes  \\\nmovie_title                                                          \nAvatar                                                      1000.0   \nPirates of the Caribbean: At World's End                   40000.0   \nSpectre                                                    11000.0   \nThe Dark Knight Rises                                      27000.0   \nStar Wars: Episode VII - The Force Awakens                   131.0   \n\n                                                  gross  \\\nmovie_title                                               \nAvatar                                      760505847.0   \nPirates of the Caribbean: At World's End    309404152.0   \nSpectre                                     200074175.0   \nThe Dark Knight Rises                       448130642.0   \nStar Wars: Episode VII - The Force Awakens          NaN   \n\n                                                                     genres  \\\nmovie_title                                                                   \nAvatar                                      Action|Adventure|Fantasy|Sci-Fi   \nPirates of the Caribbean: At World's End           Action|Adventure|Fantasy   \nSpectre                                           Action|Adventure|Thriller   \nThe Dark Knight Rises                                       Action|Thriller   \nStar Wars: Episode VII - The Force Awakens                      Documentary   \n\n                                            ... num_user_for_reviews  \\\nmovie_title                                 ...                        \nAvatar                                      ...               3054.0   \nPirates of the Caribbean: At World's End    ...               1238.0   \nSpectre                                     ...                994.0   \nThe Dark Knight Rises                       ...               2701.0   \nStar Wars: Episode VII - The Force Awakens  ...                  NaN   \n\n                                            language  country content_rating  \\\nmovie_title                                                                    \nAvatar                                       English      USA          PG-13   \nPirates of the Caribbean: At World's End     English      USA          PG-13   \nSpectre                                      English       UK          PG-13   \nThe Dark Knight Rises                        English      USA          PG-13   \nStar Wars: Episode VII - The Force Awakens       NaN      NaN            NaN   \n\n                                                 budget title_year  \\\nmovie_title                                                          \nAvatar                                      237000000.0     2009.0   \nPirates of the Caribbean: At World's End    300000000.0     2007.0   \nSpectre                                     245000000.0     2015.0   \nThe Dark Knight Rises                       250000000.0     2012.0   \nStar Wars: Episode VII - The Force Awakens          NaN        NaN   \n\n                                           actor_2_facebook_likes  imdb_score  \\\nmovie_title                                                                     \nAvatar                                                      936.0         7.9   \nPirates of the Caribbean: At World's End                   5000.0         7.1   \nSpectre                                                     393.0         6.8   \nThe Dark Knight Rises                                     23000.0         8.5   \nStar Wars: Episode VII - The Force Awakens                   12.0         7.1   \n\n                                           aspect_ratio movie_facebook_likes  \nmovie_title                                                                   \nAvatar                                             1.78                33000  \nPirates of the Caribbean: At World's End           2.35                    0  \nSpectre                                            2.35                85000  \nThe Dark Knight Rises                              2.35               164000  \nStar Wars: Episode VII - The Force Awakens          NaN                    0  \n\n[5 rows x 27 columns]",
      "text/html": "<div>\n<style scoped>\n    .dataframe tbody tr th:only-of-type {\n        vertical-align: middle;\n    }\n\n    .dataframe tbody tr th {\n        vertical-align: top;\n    }\n\n    .dataframe thead th {\n        text-align: right;\n    }\n</style>\n<table border=\"1\" class=\"dataframe\">\n  <thead>\n    <tr style=\"text-align: right;\">\n      <th></th>\n      <th>color</th>\n      <th>director_name</th>\n      <th>num_critic_for_reviews</th>\n      <th>duration</th>\n      <th>director_facebook_likes</th>\n      <th>actor_3_facebook_likes</th>\n      <th>actor_2_name</th>\n      <th>actor_1_facebook_likes</th>\n      <th>gross</th>\n      <th>genres</th>\n      <th>...</th>\n      <th>num_user_for_reviews</th>\n      <th>language</th>\n      <th>country</th>\n      <th>content_rating</th>\n      <th>budget</th>\n      <th>title_year</th>\n      <th>actor_2_facebook_likes</th>\n      <th>imdb_score</th>\n      <th>aspect_ratio</th>\n      <th>movie_facebook_likes</th>\n    </tr>\n    <tr>\n      <th>movie_title</th>\n      <th></th>\n      <th></th>\n      <th></th>\n      <th></th>\n      <th></th>\n      <th></th>\n      <th></th>\n      <th></th>\n      <th></th>\n      <th></th>\n      <th></th>\n      <th></th>\n      <th></th>\n      <th></th>\n      <th></th>\n      <th></th>\n      <th></th>\n      <th></th>\n      <th></th>\n      <th></th>\n      <th></th>\n    </tr>\n  </thead>\n  <tbody>\n    <tr>\n      <th>Avatar</th>\n      <td>Color</td>\n      <td>James Cameron</td>\n      <td>723.0</td>\n      <td>178.0</td>\n      <td>0.0</td>\n      <td>855.0</td>\n      <td>Joel David Moore</td>\n      <td>1000.0</td>\n      <td>760505847.0</td>\n      <td>Action|Adventure|Fantasy|Sci-Fi</td>\n      <td>...</td>\n      <td>3054.0</td>\n      <td>English</td>\n      <td>USA</td>\n      <td>PG-13</td>\n      <td>237000000.0</td>\n      <td>2009.0</td>\n      <td>936.0</td>\n      <td>7.9</td>\n      <td>1.78</td>\n      <td>33000</td>\n    </tr>\n    <tr>\n      <th>Pirates of the Caribbean: At World's End</th>\n      <td>Color</td>\n      <td>Gore Verbinski</td>\n      <td>302.0</td>\n      <td>169.0</td>\n      <td>563.0</td>\n      <td>1000.0</td>\n      <td>Orlando Bloom</td>\n      <td>40000.0</td>\n      <td>309404152.0</td>\n      <td>Action|Adventure|Fantasy</td>\n      <td>...</td>\n      <td>1238.0</td>\n      <td>English</td>\n      <td>USA</td>\n      <td>PG-13</td>\n      <td>300000000.0</td>\n      <td>2007.0</td>\n      <td>5000.0</td>\n      <td>7.1</td>\n      <td>2.35</td>\n      <td>0</td>\n    </tr>\n    <tr>\n      <th>Spectre</th>\n      <td>Color</td>\n      <td>Sam Mendes</td>\n      <td>602.0</td>\n      <td>148.0</td>\n      <td>0.0</td>\n      <td>161.0</td>\n      <td>Rory Kinnear</td>\n      <td>11000.0</td>\n      <td>200074175.0</td>\n      <td>Action|Adventure|Thriller</td>\n      <td>...</td>\n      <td>994.0</td>\n      <td>English</td>\n      <td>UK</td>\n      <td>PG-13</td>\n      <td>245000000.0</td>\n      <td>2015.0</td>\n      <td>393.0</td>\n      <td>6.8</td>\n      <td>2.35</td>\n      <td>85000</td>\n    </tr>\n    <tr>\n      <th>The Dark Knight Rises</th>\n      <td>Color</td>\n      <td>Christopher Nolan</td>\n      <td>813.0</td>\n      <td>164.0</td>\n      <td>22000.0</td>\n      <td>23000.0</td>\n      <td>Christian Bale</td>\n      <td>27000.0</td>\n      <td>448130642.0</td>\n      <td>Action|Thriller</td>\n      <td>...</td>\n      <td>2701.0</td>\n      <td>English</td>\n      <td>USA</td>\n      <td>PG-13</td>\n      <td>250000000.0</td>\n      <td>2012.0</td>\n      <td>23000.0</td>\n      <td>8.5</td>\n      <td>2.35</td>\n      <td>164000</td>\n    </tr>\n    <tr>\n      <th>Star Wars: Episode VII - The Force Awakens</th>\n      <td>NaN</td>\n      <td>Doug Walker</td>\n      <td>NaN</td>\n      <td>NaN</td>\n      <td>131.0</td>\n      <td>NaN</td>\n      <td>Rob Walker</td>\n      <td>131.0</td>\n      <td>NaN</td>\n      <td>Documentary</td>\n      <td>...</td>\n      <td>NaN</td>\n      <td>NaN</td>\n      <td>NaN</td>\n      <td>NaN</td>\n      <td>NaN</td>\n      <td>NaN</td>\n      <td>12.0</td>\n      <td>7.1</td>\n      <td>NaN</td>\n      <td>0</td>\n    </tr>\n  </tbody>\n</table>\n<p>5 rows × 27 columns</p>\n</div>"
     },
     "metadata": {},
     "execution_count": 203
    }
   ],
   "source": [
    "movie = pd.read_csv(\"./PandasCookbook_Code/data/movie.csv\", index_col=\"movie_title\")\n",
    "movie.head()"
   ]
  },
  {
   "cell_type": "code",
   "execution_count": 204,
   "metadata": {},
   "outputs": [
    {
     "output_type": "execute_result",
     "data": {
      "text/plain": "movie_title\nAvatar                                            James Cameron\nPirates of the Caribbean: At World's End         Gore Verbinski\nSpectre                                              Sam Mendes\nThe Dark Knight Rises                         Christopher Nolan\nStar Wars: Episode VII - The Force Awakens          Doug Walker\n                                                    ...        \nSigned Sealed Delivered                             Scott Smith\nThe Following                                               NaN\nA Plague So Pleasant                           Benjamin Roberds\nShanghai Calling                                    Daniel Hsia\nMy Date with Drew                                      Jon Gunn\nName: director_name, Length: 4916, dtype: object"
     },
     "metadata": {},
     "execution_count": 204
    }
   ],
   "source": [
    "# Selezione singola colonna (Series)\n",
    "movie[\"director_name\"] # Come etichetta colonna"
   ]
  },
  {
   "cell_type": "code",
   "execution_count": 205,
   "metadata": {},
   "outputs": [
    {
     "output_type": "execute_result",
     "data": {
      "text/plain": "movie_title\nAvatar                                            James Cameron\nPirates of the Caribbean: At World's End         Gore Verbinski\nSpectre                                              Sam Mendes\nThe Dark Knight Rises                         Christopher Nolan\nStar Wars: Episode VII - The Force Awakens          Doug Walker\n                                                    ...        \nSigned Sealed Delivered                             Scott Smith\nThe Following                                               NaN\nA Plague So Pleasant                           Benjamin Roberds\nShanghai Calling                                    Daniel Hsia\nMy Date with Drew                                      Jon Gunn\nName: director_name, Length: 4916, dtype: object"
     },
     "metadata": {},
     "execution_count": 205
    }
   ],
   "source": [
    "movie.director_name # Come proprietà del Frame"
   ]
  },
  {
   "cell_type": "code",
   "execution_count": 206,
   "metadata": {},
   "outputs": [
    {
     "output_type": "stream",
     "name": "stdout",
     "text": "4916\n(4916,)\n4916\n"
    },
    {
     "output_type": "execute_result",
     "data": {
      "text/plain": "count                 4814\nunique                2397\ntop       Steven Spielberg\nfreq                    26\nName: director_name, dtype: object"
     },
     "metadata": {},
     "execution_count": 206
    }
   ],
   "source": [
    "# Calcolo lunghezza serie e valori statistici per Series stringa\n",
    "print(movie.director_name.size)\n",
    "print(movie.director_name.shape)\n",
    "print(len(movie.director_name))\n",
    "movie.director_name.describe()"
   ]
  },
  {
   "cell_type": "code",
   "execution_count": 207,
   "metadata": {},
   "outputs": [
    {
     "output_type": "execute_result",
     "data": {
      "text/plain": "count      4909.000000\nmean       6494.488491\nstd       15106.986884\nmin           0.000000\n25%         607.000000\n50%         982.000000\n75%       11000.000000\nmax      640000.000000\nName: actor_1_facebook_likes, dtype: float64"
     },
     "metadata": {},
     "execution_count": 207
    }
   ],
   "source": [
    "# Calcolo valori statistici per Series float\n",
    "movie.actor_1_facebook_likes.describe()"
   ]
  },
  {
   "cell_type": "code",
   "execution_count": 208,
   "metadata": {},
   "outputs": [
    {
     "output_type": "execute_result",
     "data": {
      "text/plain": "510.0"
     },
     "metadata": {},
     "execution_count": 208
    }
   ],
   "source": [
    "# Calcolo quantili\n",
    "movie.actor_1_facebook_likes.quantile(.2)"
   ]
  },
  {
   "cell_type": "code",
   "execution_count": 209,
   "metadata": {},
   "outputs": [
    {
     "output_type": "execute_result",
     "data": {
      "text/plain": "movie_title\nAvatar                                        False\nPirates of the Caribbean: At World's End      False\nSpectre                                       False\nThe Dark Knight Rises                         False\nStar Wars: Episode VII - The Force Awakens    False\n                                              ...  \nSigned Sealed Delivered                       False\nThe Following                                  True\nA Plague So Pleasant                          False\nShanghai Calling                              False\nMy Date with Drew                             False\nName: director_name, Length: 4916, dtype: bool"
     },
     "metadata": {},
     "execution_count": 209
    }
   ],
   "source": [
    "# Verifica numero valori null\n",
    "movie.director_name.isnull()"
   ]
  },
  {
   "cell_type": "code",
   "execution_count": 210,
   "metadata": {},
   "outputs": [],
   "source": [
    "# index del DataFrame\n",
    "# fornisce una etichetta ad ogni riga\n",
    "# se non viene dichiarato esplicitamente viene creato un RangeIndex con etichette formate da interi da 0 a n-1\n",
    "movie.reset_index(drop=False, inplace=True) # Resetta l'indice attuale che diventa colonna e crea il RangeIndex di default\n",
    "movie.reset_index(drop=True, inplace=True) # Resetta l'indice attuale che viene perso e crea il RangeIndex di default\n",
    "movie.set_index(\"movie_title\", inplace=True) # Usa la colonna come indice (quindi non sarà più colonna)"
   ]
  },
  {
   "cell_type": "code",
   "execution_count": 211,
   "metadata": {},
   "outputs": [],
   "source": [
    "# Cambiare nome alle etichette (righe e/o colonne)\n",
    "movie.rename(index={\"Avatar\":\"AVATAR\"}, columns={\"director_name\":\"Director\"}, inplace=True)\n",
    "movie.index.values[0] = \"Avatar\"\n",
    "column_list = movie.columns.tolist()\n",
    "column_list[1] = \"director_name\"\n",
    "movie.columns = column_list # E' possibile riassegnare tutta la lista e basta"
   ]
  },
  {
   "cell_type": "code",
   "execution_count": 212,
   "metadata": {},
   "outputs": [
    {
     "output_type": "execute_result",
     "data": {
      "text/plain": "                                            color      director_name  \\\nmovie_title                                                            \nAvatar                                      Color      James Cameron   \nPirates of the Caribbean: At World's End    Color     Gore Verbinski   \nSpectre                                     Color         Sam Mendes   \nThe Dark Knight Rises                       Color  Christopher Nolan   \nStar Wars: Episode VII - The Force Awakens    NaN        Doug Walker   \n\n                                            num_critic_for_reviews  duration  \\\nmovie_title                                                                    \nAvatar                                                       723.0     178.0   \nPirates of the Caribbean: At World's End                     302.0     169.0   \nSpectre                                                      602.0     148.0   \nThe Dark Knight Rises                                        813.0     164.0   \nStar Wars: Episode VII - The Force Awakens                     NaN       NaN   \n\n                                            director_facebook_likes  \\\nmovie_title                                                           \nAvatar                                                          0.0   \nPirates of the Caribbean: At World's End                      563.0   \nSpectre                                                         0.0   \nThe Dark Knight Rises                                       22000.0   \nStar Wars: Episode VII - The Force Awakens                    131.0   \n\n                                            actor_3_facebook_likes  \\\nmovie_title                                                          \nAvatar                                                       855.0   \nPirates of the Caribbean: At World's End                    1000.0   \nSpectre                                                      161.0   \nThe Dark Knight Rises                                      23000.0   \nStar Wars: Episode VII - The Force Awakens                     NaN   \n\n                                                actor_2_name  \\\nmovie_title                                                    \nAvatar                                      Joel David Moore   \nPirates of the Caribbean: At World's End       Orlando Bloom   \nSpectre                                         Rory Kinnear   \nThe Dark Knight Rises                         Christian Bale   \nStar Wars: Episode VII - The Force Awakens        Rob Walker   \n\n                                            actor_1_facebook_likes  \\\nmovie_title                                                          \nAvatar                                                      1000.0   \nPirates of the Caribbean: At World's End                   40000.0   \nSpectre                                                    11000.0   \nThe Dark Knight Rises                                      27000.0   \nStar Wars: Episode VII - The Force Awakens                   131.0   \n\n                                                  gross       profit  ...  \\\nmovie_title                                                           ...   \nAvatar                                      760505847.0  523505847.0  ...   \nPirates of the Caribbean: At World's End    309404152.0    9404152.0  ...   \nSpectre                                     200074175.0  -44925825.0  ...   \nThe Dark Knight Rises                       448130642.0  198130642.0  ...   \nStar Wars: Episode VII - The Force Awakens          NaN          NaN  ...   \n\n                                           country content_rating  \\\nmovie_title                                                         \nAvatar                                         USA          PG-13   \nPirates of the Caribbean: At World's End       USA          PG-13   \nSpectre                                         UK          PG-13   \nThe Dark Knight Rises                          USA          PG-13   \nStar Wars: Episode VII - The Force Awakens     NaN            NaN   \n\n                                                 budget  title_year  \\\nmovie_title                                                           \nAvatar                                      237000000.0      2009.0   \nPirates of the Caribbean: At World's End    300000000.0      2007.0   \nSpectre                                     245000000.0      2015.0   \nThe Dark Knight Rises                       250000000.0      2012.0   \nStar Wars: Episode VII - The Force Awakens          NaN         NaN   \n\n                                           actor_2_facebook_likes  imdb_score  \\\nmovie_title                                                                     \nAvatar                                                      936.0         7.9   \nPirates of the Caribbean: At World's End                   5000.0         7.1   \nSpectre                                                     393.0         6.8   \nThe Dark Knight Rises                                     23000.0         8.5   \nStar Wars: Episode VII - The Force Awakens                   12.0         7.1   \n\n                                           aspect_ratio movie_facebook_likes  \\\nmovie_title                                                                    \nAvatar                                             1.78                33000   \nPirates of the Caribbean: At World's End           2.35                    0   \nSpectre                                            2.35                85000   \nThe Dark Knight Rises                              2.35               164000   \nStar Wars: Episode VII - The Force Awakens          NaN                    0   \n\n                                            has_seen actor_fb_likes  \nmovie_title                                                          \nAvatar                                             0         2791.0  \nPirates of the Caribbean: At World's End           0        46000.0  \nSpectre                                            0        11554.0  \nThe Dark Knight Rises                              0        73000.0  \nStar Wars: Episode VII - The Force Awakens         0            NaN  \n\n[5 rows x 30 columns]",
      "text/html": "<div>\n<style scoped>\n    .dataframe tbody tr th:only-of-type {\n        vertical-align: middle;\n    }\n\n    .dataframe tbody tr th {\n        vertical-align: top;\n    }\n\n    .dataframe thead th {\n        text-align: right;\n    }\n</style>\n<table border=\"1\" class=\"dataframe\">\n  <thead>\n    <tr style=\"text-align: right;\">\n      <th></th>\n      <th>color</th>\n      <th>director_name</th>\n      <th>num_critic_for_reviews</th>\n      <th>duration</th>\n      <th>director_facebook_likes</th>\n      <th>actor_3_facebook_likes</th>\n      <th>actor_2_name</th>\n      <th>actor_1_facebook_likes</th>\n      <th>gross</th>\n      <th>profit</th>\n      <th>...</th>\n      <th>country</th>\n      <th>content_rating</th>\n      <th>budget</th>\n      <th>title_year</th>\n      <th>actor_2_facebook_likes</th>\n      <th>imdb_score</th>\n      <th>aspect_ratio</th>\n      <th>movie_facebook_likes</th>\n      <th>has_seen</th>\n      <th>actor_fb_likes</th>\n    </tr>\n    <tr>\n      <th>movie_title</th>\n      <th></th>\n      <th></th>\n      <th></th>\n      <th></th>\n      <th></th>\n      <th></th>\n      <th></th>\n      <th></th>\n      <th></th>\n      <th></th>\n      <th></th>\n      <th></th>\n      <th></th>\n      <th></th>\n      <th></th>\n      <th></th>\n      <th></th>\n      <th></th>\n      <th></th>\n      <th></th>\n      <th></th>\n    </tr>\n  </thead>\n  <tbody>\n    <tr>\n      <th>Avatar</th>\n      <td>Color</td>\n      <td>James Cameron</td>\n      <td>723.0</td>\n      <td>178.0</td>\n      <td>0.0</td>\n      <td>855.0</td>\n      <td>Joel David Moore</td>\n      <td>1000.0</td>\n      <td>760505847.0</td>\n      <td>523505847.0</td>\n      <td>...</td>\n      <td>USA</td>\n      <td>PG-13</td>\n      <td>237000000.0</td>\n      <td>2009.0</td>\n      <td>936.0</td>\n      <td>7.9</td>\n      <td>1.78</td>\n      <td>33000</td>\n      <td>0</td>\n      <td>2791.0</td>\n    </tr>\n    <tr>\n      <th>Pirates of the Caribbean: At World's End</th>\n      <td>Color</td>\n      <td>Gore Verbinski</td>\n      <td>302.0</td>\n      <td>169.0</td>\n      <td>563.0</td>\n      <td>1000.0</td>\n      <td>Orlando Bloom</td>\n      <td>40000.0</td>\n      <td>309404152.0</td>\n      <td>9404152.0</td>\n      <td>...</td>\n      <td>USA</td>\n      <td>PG-13</td>\n      <td>300000000.0</td>\n      <td>2007.0</td>\n      <td>5000.0</td>\n      <td>7.1</td>\n      <td>2.35</td>\n      <td>0</td>\n      <td>0</td>\n      <td>46000.0</td>\n    </tr>\n    <tr>\n      <th>Spectre</th>\n      <td>Color</td>\n      <td>Sam Mendes</td>\n      <td>602.0</td>\n      <td>148.0</td>\n      <td>0.0</td>\n      <td>161.0</td>\n      <td>Rory Kinnear</td>\n      <td>11000.0</td>\n      <td>200074175.0</td>\n      <td>-44925825.0</td>\n      <td>...</td>\n      <td>UK</td>\n      <td>PG-13</td>\n      <td>245000000.0</td>\n      <td>2015.0</td>\n      <td>393.0</td>\n      <td>6.8</td>\n      <td>2.35</td>\n      <td>85000</td>\n      <td>0</td>\n      <td>11554.0</td>\n    </tr>\n    <tr>\n      <th>The Dark Knight Rises</th>\n      <td>Color</td>\n      <td>Christopher Nolan</td>\n      <td>813.0</td>\n      <td>164.0</td>\n      <td>22000.0</td>\n      <td>23000.0</td>\n      <td>Christian Bale</td>\n      <td>27000.0</td>\n      <td>448130642.0</td>\n      <td>198130642.0</td>\n      <td>...</td>\n      <td>USA</td>\n      <td>PG-13</td>\n      <td>250000000.0</td>\n      <td>2012.0</td>\n      <td>23000.0</td>\n      <td>8.5</td>\n      <td>2.35</td>\n      <td>164000</td>\n      <td>0</td>\n      <td>73000.0</td>\n    </tr>\n    <tr>\n      <th>Star Wars: Episode VII - The Force Awakens</th>\n      <td>NaN</td>\n      <td>Doug Walker</td>\n      <td>NaN</td>\n      <td>NaN</td>\n      <td>131.0</td>\n      <td>NaN</td>\n      <td>Rob Walker</td>\n      <td>131.0</td>\n      <td>NaN</td>\n      <td>NaN</td>\n      <td>...</td>\n      <td>NaN</td>\n      <td>NaN</td>\n      <td>NaN</td>\n      <td>NaN</td>\n      <td>12.0</td>\n      <td>7.1</td>\n      <td>NaN</td>\n      <td>0</td>\n      <td>0</td>\n      <td>NaN</td>\n    </tr>\n  </tbody>\n</table>\n<p>5 rows × 30 columns</p>\n</div>"
     },
     "metadata": {},
     "execution_count": 212
    }
   ],
   "source": [
    "# Creazione colonne\n",
    "movie[\"has_seen\"] = 0 # Crea nuova colonna inizializzata con valori a 0\n",
    "movie[\"actor_fb_likes\"] = movie[\"actor_1_facebook_likes\"] + movie[\"actor_2_facebook_likes\"] + movie.actor_3_facebook_likes # Nuova colonna come somma dei valori delle colonne indicate\n",
    "profit_index = movie.columns.get_loc(\"gross\") # Prendo indice numerico colonna \"gross\"\n",
    "movie.insert(loc=profit_index+1, column=\"profit\", value=movie[\"gross\"] - movie[\"budget\"]) # Inserisco colonna dopo \"gross\"\n",
    "movie.head()"
   ]
  },
  {
   "cell_type": "code",
   "execution_count": 213,
   "metadata": {},
   "outputs": [
    {
     "output_type": "execute_result",
     "data": {
      "text/plain": "                                            color      director_name  \\\nmovie_title                                                            \nAvatar                                      Color      James Cameron   \nPirates of the Caribbean: At World's End    Color     Gore Verbinski   \nSpectre                                     Color         Sam Mendes   \nThe Dark Knight Rises                       Color  Christopher Nolan   \nStar Wars: Episode VII - The Force Awakens    NaN        Doug Walker   \n\n                                            num_critic_for_reviews  duration  \\\nmovie_title                                                                    \nAvatar                                                       723.0     178.0   \nPirates of the Caribbean: At World's End                     302.0     169.0   \nSpectre                                                      602.0     148.0   \nThe Dark Knight Rises                                        813.0     164.0   \nStar Wars: Episode VII - The Force Awakens                     NaN       NaN   \n\n                                            director_facebook_likes  \\\nmovie_title                                                           \nAvatar                                                          0.0   \nPirates of the Caribbean: At World's End                      563.0   \nSpectre                                                         0.0   \nThe Dark Knight Rises                                       22000.0   \nStar Wars: Episode VII - The Force Awakens                    131.0   \n\n                                            actor_3_facebook_likes  \\\nmovie_title                                                          \nAvatar                                                       855.0   \nPirates of the Caribbean: At World's End                    1000.0   \nSpectre                                                      161.0   \nThe Dark Knight Rises                                      23000.0   \nStar Wars: Episode VII - The Force Awakens                     NaN   \n\n                                                actor_2_name  \\\nmovie_title                                                    \nAvatar                                      Joel David Moore   \nPirates of the Caribbean: At World's End       Orlando Bloom   \nSpectre                                         Rory Kinnear   \nThe Dark Knight Rises                         Christian Bale   \nStar Wars: Episode VII - The Force Awakens        Rob Walker   \n\n                                            actor_1_facebook_likes  \\\nmovie_title                                                          \nAvatar                                                      1000.0   \nPirates of the Caribbean: At World's End                   40000.0   \nSpectre                                                    11000.0   \nThe Dark Knight Rises                                      27000.0   \nStar Wars: Episode VII - The Force Awakens                   131.0   \n\n                                                  gross  \\\nmovie_title                                               \nAvatar                                      760505847.0   \nPirates of the Caribbean: At World's End    309404152.0   \nSpectre                                     200074175.0   \nThe Dark Knight Rises                       448130642.0   \nStar Wars: Episode VII - The Force Awakens          NaN   \n\n                                                                     genres  \\\nmovie_title                                                                   \nAvatar                                      Action|Adventure|Fantasy|Sci-Fi   \nPirates of the Caribbean: At World's End           Action|Adventure|Fantasy   \nSpectre                                           Action|Adventure|Thriller   \nThe Dark Knight Rises                                       Action|Thriller   \nStar Wars: Episode VII - The Force Awakens                      Documentary   \n\n                                            ... language  country  \\\nmovie_title                                 ...                     \nAvatar                                      ...  English      USA   \nPirates of the Caribbean: At World's End    ...  English      USA   \nSpectre                                     ...  English       UK   \nThe Dark Knight Rises                       ...  English      USA   \nStar Wars: Episode VII - The Force Awakens  ...      NaN      NaN   \n\n                                            content_rating       budget  \\\nmovie_title                                                               \nAvatar                                               PG-13  237000000.0   \nPirates of the Caribbean: At World's End             PG-13  300000000.0   \nSpectre                                              PG-13  245000000.0   \nThe Dark Knight Rises                                PG-13  250000000.0   \nStar Wars: Episode VII - The Force Awakens             NaN          NaN   \n\n                                            title_year actor_2_facebook_likes  \\\nmovie_title                                                                     \nAvatar                                          2009.0                  936.0   \nPirates of the Caribbean: At World's End        2007.0                 5000.0   \nSpectre                                         2015.0                  393.0   \nThe Dark Knight Rises                           2012.0                23000.0   \nStar Wars: Episode VII - The Force Awakens         NaN                   12.0   \n\n                                           imdb_score  aspect_ratio  \\\nmovie_title                                                           \nAvatar                                            7.9          1.78   \nPirates of the Caribbean: At World's End          7.1          2.35   \nSpectre                                           6.8          2.35   \nThe Dark Knight Rises                             8.5          2.35   \nStar Wars: Episode VII - The Force Awakens        7.1           NaN   \n\n                                           movie_facebook_likes actor_fb_likes  \nmovie_title                                                                     \nAvatar                                                    33000         2791.0  \nPirates of the Caribbean: At World's End                      0        46000.0  \nSpectre                                                   85000        11554.0  \nThe Dark Knight Rises                                    164000        73000.0  \nStar Wars: Episode VII - The Force Awakens                    0            NaN  \n\n[5 rows x 28 columns]",
      "text/html": "<div>\n<style scoped>\n    .dataframe tbody tr th:only-of-type {\n        vertical-align: middle;\n    }\n\n    .dataframe tbody tr th {\n        vertical-align: top;\n    }\n\n    .dataframe thead th {\n        text-align: right;\n    }\n</style>\n<table border=\"1\" class=\"dataframe\">\n  <thead>\n    <tr style=\"text-align: right;\">\n      <th></th>\n      <th>color</th>\n      <th>director_name</th>\n      <th>num_critic_for_reviews</th>\n      <th>duration</th>\n      <th>director_facebook_likes</th>\n      <th>actor_3_facebook_likes</th>\n      <th>actor_2_name</th>\n      <th>actor_1_facebook_likes</th>\n      <th>gross</th>\n      <th>genres</th>\n      <th>...</th>\n      <th>language</th>\n      <th>country</th>\n      <th>content_rating</th>\n      <th>budget</th>\n      <th>title_year</th>\n      <th>actor_2_facebook_likes</th>\n      <th>imdb_score</th>\n      <th>aspect_ratio</th>\n      <th>movie_facebook_likes</th>\n      <th>actor_fb_likes</th>\n    </tr>\n    <tr>\n      <th>movie_title</th>\n      <th></th>\n      <th></th>\n      <th></th>\n      <th></th>\n      <th></th>\n      <th></th>\n      <th></th>\n      <th></th>\n      <th></th>\n      <th></th>\n      <th></th>\n      <th></th>\n      <th></th>\n      <th></th>\n      <th></th>\n      <th></th>\n      <th></th>\n      <th></th>\n      <th></th>\n      <th></th>\n      <th></th>\n    </tr>\n  </thead>\n  <tbody>\n    <tr>\n      <th>Avatar</th>\n      <td>Color</td>\n      <td>James Cameron</td>\n      <td>723.0</td>\n      <td>178.0</td>\n      <td>0.0</td>\n      <td>855.0</td>\n      <td>Joel David Moore</td>\n      <td>1000.0</td>\n      <td>760505847.0</td>\n      <td>Action|Adventure|Fantasy|Sci-Fi</td>\n      <td>...</td>\n      <td>English</td>\n      <td>USA</td>\n      <td>PG-13</td>\n      <td>237000000.0</td>\n      <td>2009.0</td>\n      <td>936.0</td>\n      <td>7.9</td>\n      <td>1.78</td>\n      <td>33000</td>\n      <td>2791.0</td>\n    </tr>\n    <tr>\n      <th>Pirates of the Caribbean: At World's End</th>\n      <td>Color</td>\n      <td>Gore Verbinski</td>\n      <td>302.0</td>\n      <td>169.0</td>\n      <td>563.0</td>\n      <td>1000.0</td>\n      <td>Orlando Bloom</td>\n      <td>40000.0</td>\n      <td>309404152.0</td>\n      <td>Action|Adventure|Fantasy</td>\n      <td>...</td>\n      <td>English</td>\n      <td>USA</td>\n      <td>PG-13</td>\n      <td>300000000.0</td>\n      <td>2007.0</td>\n      <td>5000.0</td>\n      <td>7.1</td>\n      <td>2.35</td>\n      <td>0</td>\n      <td>46000.0</td>\n    </tr>\n    <tr>\n      <th>Spectre</th>\n      <td>Color</td>\n      <td>Sam Mendes</td>\n      <td>602.0</td>\n      <td>148.0</td>\n      <td>0.0</td>\n      <td>161.0</td>\n      <td>Rory Kinnear</td>\n      <td>11000.0</td>\n      <td>200074175.0</td>\n      <td>Action|Adventure|Thriller</td>\n      <td>...</td>\n      <td>English</td>\n      <td>UK</td>\n      <td>PG-13</td>\n      <td>245000000.0</td>\n      <td>2015.0</td>\n      <td>393.0</td>\n      <td>6.8</td>\n      <td>2.35</td>\n      <td>85000</td>\n      <td>11554.0</td>\n    </tr>\n    <tr>\n      <th>The Dark Knight Rises</th>\n      <td>Color</td>\n      <td>Christopher Nolan</td>\n      <td>813.0</td>\n      <td>164.0</td>\n      <td>22000.0</td>\n      <td>23000.0</td>\n      <td>Christian Bale</td>\n      <td>27000.0</td>\n      <td>448130642.0</td>\n      <td>Action|Thriller</td>\n      <td>...</td>\n      <td>English</td>\n      <td>USA</td>\n      <td>PG-13</td>\n      <td>250000000.0</td>\n      <td>2012.0</td>\n      <td>23000.0</td>\n      <td>8.5</td>\n      <td>2.35</td>\n      <td>164000</td>\n      <td>73000.0</td>\n    </tr>\n    <tr>\n      <th>Star Wars: Episode VII - The Force Awakens</th>\n      <td>NaN</td>\n      <td>Doug Walker</td>\n      <td>NaN</td>\n      <td>NaN</td>\n      <td>131.0</td>\n      <td>NaN</td>\n      <td>Rob Walker</td>\n      <td>131.0</td>\n      <td>NaN</td>\n      <td>Documentary</td>\n      <td>...</td>\n      <td>NaN</td>\n      <td>NaN</td>\n      <td>NaN</td>\n      <td>NaN</td>\n      <td>NaN</td>\n      <td>12.0</td>\n      <td>7.1</td>\n      <td>NaN</td>\n      <td>0</td>\n      <td>NaN</td>\n    </tr>\n  </tbody>\n</table>\n<p>5 rows × 28 columns</p>\n</div>"
     },
     "metadata": {},
     "execution_count": 213
    }
   ],
   "source": [
    "# Cancellazione colonne\n",
    "movie.drop([\"has_seen\", \"profit\"], axis=1, inplace=True) # Cancellazione su asse colonne\n",
    "movie.head()"
   ]
  },
  {
   "cell_type": "code",
   "execution_count": 214,
   "metadata": {},
   "outputs": [
    {
     "output_type": "execute_result",
     "data": {
      "text/plain": "                                               actor_1_name      actor_2_name  \\\nmovie_title                                                                     \nAvatar                                          CCH Pounder  Joel David Moore   \nPirates of the Caribbean: At World's End        Johnny Depp     Orlando Bloom   \nSpectre                                     Christoph Waltz      Rory Kinnear   \nThe Dark Knight Rises                             Tom Hardy    Christian Bale   \nStar Wars: Episode VII - The Force Awakens      Doug Walker        Rob Walker   \n\n                                                    actor_3_name  \\\nmovie_title                                                        \nAvatar                                                 Wes Studi   \nPirates of the Caribbean: At World's End          Jack Davenport   \nSpectre                                         Stephanie Sigman   \nThe Dark Knight Rises                       Joseph Gordon-Levitt   \nStar Wars: Episode VII - The Force Awakens                   NaN   \n\n                                                director_name  \nmovie_title                                                    \nAvatar                                          James Cameron  \nPirates of the Caribbean: At World's End       Gore Verbinski  \nSpectre                                            Sam Mendes  \nThe Dark Knight Rises                       Christopher Nolan  \nStar Wars: Episode VII - The Force Awakens        Doug Walker  ",
      "text/html": "<div>\n<style scoped>\n    .dataframe tbody tr th:only-of-type {\n        vertical-align: middle;\n    }\n\n    .dataframe tbody tr th {\n        vertical-align: top;\n    }\n\n    .dataframe thead th {\n        text-align: right;\n    }\n</style>\n<table border=\"1\" class=\"dataframe\">\n  <thead>\n    <tr style=\"text-align: right;\">\n      <th></th>\n      <th>actor_1_name</th>\n      <th>actor_2_name</th>\n      <th>actor_3_name</th>\n      <th>director_name</th>\n    </tr>\n    <tr>\n      <th>movie_title</th>\n      <th></th>\n      <th></th>\n      <th></th>\n      <th></th>\n    </tr>\n  </thead>\n  <tbody>\n    <tr>\n      <th>Avatar</th>\n      <td>CCH Pounder</td>\n      <td>Joel David Moore</td>\n      <td>Wes Studi</td>\n      <td>James Cameron</td>\n    </tr>\n    <tr>\n      <th>Pirates of the Caribbean: At World's End</th>\n      <td>Johnny Depp</td>\n      <td>Orlando Bloom</td>\n      <td>Jack Davenport</td>\n      <td>Gore Verbinski</td>\n    </tr>\n    <tr>\n      <th>Spectre</th>\n      <td>Christoph Waltz</td>\n      <td>Rory Kinnear</td>\n      <td>Stephanie Sigman</td>\n      <td>Sam Mendes</td>\n    </tr>\n    <tr>\n      <th>The Dark Knight Rises</th>\n      <td>Tom Hardy</td>\n      <td>Christian Bale</td>\n      <td>Joseph Gordon-Levitt</td>\n      <td>Christopher Nolan</td>\n    </tr>\n    <tr>\n      <th>Star Wars: Episode VII - The Force Awakens</th>\n      <td>Doug Walker</td>\n      <td>Rob Walker</td>\n      <td>NaN</td>\n      <td>Doug Walker</td>\n    </tr>\n  </tbody>\n</table>\n</div>"
     },
     "metadata": {},
     "execution_count": 214
    }
   ],
   "source": [
    "# Selezione colonne multiple di un DataFrame\n",
    "movie_actor_director = movie[['actor_1_name', 'actor_2_name','actor_3_name', 'director_name']]\n",
    "movie_actor_director.head()"
   ]
  },
  {
   "cell_type": "code",
   "execution_count": 215,
   "metadata": {},
   "outputs": [
    {
     "output_type": "stream",
     "name": "stdout",
     "text": "DataFrame----------------------\n             director_name\nmovie_title               \nAvatar       James Cameron\nSeries-------------------------\nmovie_title\nAvatar    James Cameron\nName: director_name, dtype: object\n"
    }
   ],
   "source": [
    "# Selezione colonna singola di un DataFrame come DataFrame\n",
    "print(\"DataFrame----------------------\")\n",
    "print(movie[[\"director_name\"]].head(1))\n",
    "# Selezione colonna singola di un DataFrame come Series\n",
    "print(\"Series-------------------------\")\n",
    "print(movie[\"director_name\"].head(1))"
   ]
  },
  {
   "cell_type": "code",
   "execution_count": 216,
   "metadata": {},
   "outputs": [
    {
     "output_type": "execute_result",
     "data": {
      "text/plain": "Index(['num_critic_for_reviews', 'duration', 'director_facebook_likes',\n       'actor_3_facebook_likes', 'actor_1_facebook_likes', 'gross',\n       'facenumber_in_poster', 'num_user_for_reviews', 'budget', 'title_year',\n       'actor_2_facebook_likes', 'imdb_score', 'aspect_ratio',\n       'actor_fb_likes'],\n      dtype='object')"
     },
     "metadata": {},
     "execution_count": 216
    }
   ],
   "source": [
    "# Selezione colonne multiple in base al tipo dato\n",
    "# include=[] lista di stringhe (\"int\", \"number\") o una lista di tipi numpy (np.float64)\n",
    "movie.select_dtypes(include=[\"int\", np.float64]).columns"
   ]
  },
  {
   "cell_type": "code",
   "execution_count": 217,
   "metadata": {},
   "outputs": [
    {
     "output_type": "stream",
     "name": "stdout",
     "text": "Index(['director_facebook_likes', 'actor_3_facebook_likes',\n       'actor_1_facebook_likes', 'cast_total_facebook_likes',\n       'actor_2_facebook_likes', 'movie_facebook_likes'],\n      dtype='object')\nIndex(['director_name'], dtype='object')\nIndex(['actor_3_facebook_likes', 'actor_2_name', 'actor_1_facebook_likes',\n       'actor_1_name', 'actor_3_name', 'actor_2_facebook_likes'],\n      dtype='object')\n"
    }
   ],
   "source": [
    "# Selezione colonne multiple in base ad un filtro sui nomi colonna\n",
    "print(movie.filter(like=\"facebook\").columns)\n",
    "print(movie.filter(items=[\"director_name\",\"abc\"]).columns) # Lista nomi colonne esatte no errori\n",
    "print(movie.filter(regex=\"\\d\").columns) # Colonne con una cifra nel nome"
   ]
  },
  {
   "cell_type": "code",
   "execution_count": 218,
   "metadata": {},
   "outputs": [
    {
     "output_type": "stream",
     "name": "stdout",
     "text": "Index(['color', 'director_name', 'num_critic_for_reviews'], dtype='object') ... Index(['aspect_ratio', 'movie_facebook_likes', 'actor_fb_likes'], dtype='object')\nIndex(['actor_fb_likes', 'movie_facebook_likes', 'aspect_ratio'], dtype='object') ... Index(['num_critic_for_reviews', 'director_name', 'color'], dtype='object')\n"
    }
   ],
   "source": [
    "# Ordinamento colonne di un DataFrame\n",
    "# movie.columns = reversed(movie.columns) --> QUESTO NON ORDINA LE COLONNE LE RINOMINA!!!\n",
    "movie1 = movie[reversed(movie.columns)]\n",
    "\n",
    "print(movie.columns[:3], \"...\", movie.columns[-3:])\n",
    "print(movie1.columns[:3], \"...\", movie1.columns[-3:])"
   ]
  },
  {
   "cell_type": "code",
   "execution_count": 219,
   "metadata": {},
   "outputs": [
    {
     "output_type": "stream",
     "name": "stdout",
     "text": "(4916, 28)\n137648\n2\n4916\n---\ncolor                      4897\ndirector_name              4814\nnum_critic_for_reviews     4867\nduration                   4901\ndirector_facebook_likes    4814\ndtype: int64\n       aspect_ratio   imdb_score  actor_2_facebook_likes\ncount   4590.000000  4916.000000             4903.000000\nmean       2.222349     6.437429             1621.923516\nstd        1.402940     1.127802             4011.299523\nmin        1.180000     1.600000                0.000000\n25%        1.850000     5.800000              277.000000\n50%        2.350000     6.600000              593.000000\n75%        2.350000     7.200000              912.000000\nmax       16.000000     9.500000           137000.000000\n"
    }
   ],
   "source": [
    "# Attributi del DataFrame\n",
    "print(movie.shape) # tupla con numero righe e numero colonne\n",
    "print(movie.size) # numero totale elementi (righe*colonne)\n",
    "print(movie.ndim) # numero dimensioni 2: dimensione riga e dimensione colonna (sempre)\n",
    "print(len(movie)) # numero righe\n",
    "print(\"---\")\n",
    "print(movie.count().head()) # Serie con numero elementi per colonna (escludendo i Nan)\n",
    "print(movie.describe()[[\"aspect_ratio\", \"imdb_score\",\"actor_2_facebook_likes\"]]) # DataFrame con statistiche\n",
    "# Pandas gestisce i valori mancanti nelle colonne numeriche escludendoli di default. Se si vuole includerli si può usare il parametro skipna=False"
   ]
  },
  {
   "cell_type": "code",
   "execution_count": 220,
   "metadata": {},
   "outputs": [
    {
     "output_type": "execute_result",
     "data": {
      "text/plain": "color                       19\ndirector_name              102\nnum_critic_for_reviews      49\nduration                    15\ndirector_facebook_likes    102\ndtype: int64"
     },
     "metadata": {},
     "execution_count": 220
    }
   ],
   "source": [
    "# Concatenazione metodi per i DataFrame, calcolo somma elementi nulli per colonna\n",
    "movie.isnull().sum().head()"
   ]
  },
  {
   "cell_type": "code",
   "execution_count": 221,
   "metadata": {},
   "outputs": [
    {
     "output_type": "execute_result",
     "data": {
      "text/plain": "True"
     },
     "metadata": {},
     "execution_count": 221
    }
   ],
   "source": [
    "# Cerco se un DataFrame ha almeno un elemento nullo\n",
    "movie.isnull().any().any()"
   ]
  },
  {
   "cell_type": "code",
   "execution_count": 222,
   "metadata": {},
   "outputs": [
    {
     "output_type": "execute_result",
     "data": {
      "text/plain": "True"
     },
     "metadata": {},
     "execution_count": 222
    }
   ],
   "source": [
    "# Confronto valori mancanti (usare sempre .isnull())\n",
    "np.nan == np.nan # False\n",
    "None == None # True\n",
    "# Quindi confronto DataFrame non usare operatore == ma df1.equals(df2) che gestisce i valori mancanti correttamente\n",
    "# Attenzione il metodo df.eq(df2) funziona come df1 == df2 che è sconsigliato   "
   ]
  },
  {
   "cell_type": "code",
   "execution_count": 223,
   "metadata": {},
   "outputs": [],
   "source": [
    "# Gestione confronto in unit test\n",
    "from pandas.testing import assert_frame_equal\n",
    "assert_frame_equal(movie, movie) # Se uguali ritorna None altrimenti AssertError"
   ]
  },
  {
   "cell_type": "code",
   "execution_count": 224,
   "metadata": {},
   "outputs": [
    {
     "output_type": "stream",
     "name": "stdout",
     "text": "color    4897\ndtype: int64\ncolor    4897\ndtype: int64\nmovie_title\nAvatar    28\ndtype: int64\n"
    }
   ],
   "source": [
    "# Parametro axis dei metodi del DataFrame\n",
    "# definisce la direzione delle operazioni sul Frame stesso\n",
    "# se axis=0 -> direzione sull'indice (comportamento di default)\n",
    "# se axis=1 -> direzione sulle colonne\n",
    "print(movie.count().head(1)) # Colonna Default \n",
    "print(movie.count(axis=0).head(1)) # Colonna\n",
    "print(movie.count(axis=1).head(1)) # Indice"
   ]
  },
  {
   "cell_type": "code",
   "execution_count": 225,
   "metadata": {},
   "outputs": [
    {
     "output_type": "execute_result",
     "data": {
      "text/plain": "                                     UGDS_WHITE  UGDS_BLACK  UGDS_HISP  \\\nINSTNM                                                                   \nAlabama A & M University                 0.0333      0.9353     0.0055   \nUniversity of Alabama at Birmingham      0.5922      0.2600     0.0283   \n\n                                     UGDS_ASIAN  UGDS_AIAN  UGDS_NHPI  \\\nINSTNM                                                                  \nAlabama A & M University                 0.0019     0.0024     0.0019   \nUniversity of Alabama at Birmingham      0.0518     0.0022     0.0007   \n\n                                     UGDS_2MOR  UGDS_NRA  UGDS_UNKN  \nINSTNM                                                               \nAlabama A & M University                0.0000    0.0059     0.0138  \nUniversity of Alabama at Birmingham     0.0368    0.0179     0.0100  ",
      "text/html": "<div>\n<style scoped>\n    .dataframe tbody tr th:only-of-type {\n        vertical-align: middle;\n    }\n\n    .dataframe tbody tr th {\n        vertical-align: top;\n    }\n\n    .dataframe thead th {\n        text-align: right;\n    }\n</style>\n<table border=\"1\" class=\"dataframe\">\n  <thead>\n    <tr style=\"text-align: right;\">\n      <th></th>\n      <th>UGDS_WHITE</th>\n      <th>UGDS_BLACK</th>\n      <th>UGDS_HISP</th>\n      <th>UGDS_ASIAN</th>\n      <th>UGDS_AIAN</th>\n      <th>UGDS_NHPI</th>\n      <th>UGDS_2MOR</th>\n      <th>UGDS_NRA</th>\n      <th>UGDS_UNKN</th>\n    </tr>\n    <tr>\n      <th>INSTNM</th>\n      <th></th>\n      <th></th>\n      <th></th>\n      <th></th>\n      <th></th>\n      <th></th>\n      <th></th>\n      <th></th>\n      <th></th>\n    </tr>\n  </thead>\n  <tbody>\n    <tr>\n      <th>Alabama A &amp; M University</th>\n      <td>0.0333</td>\n      <td>0.9353</td>\n      <td>0.0055</td>\n      <td>0.0019</td>\n      <td>0.0024</td>\n      <td>0.0019</td>\n      <td>0.0000</td>\n      <td>0.0059</td>\n      <td>0.0138</td>\n    </tr>\n    <tr>\n      <th>University of Alabama at Birmingham</th>\n      <td>0.5922</td>\n      <td>0.2600</td>\n      <td>0.0283</td>\n      <td>0.0518</td>\n      <td>0.0022</td>\n      <td>0.0007</td>\n      <td>0.0368</td>\n      <td>0.0179</td>\n      <td>0.0100</td>\n    </tr>\n  </tbody>\n</table>\n</div>"
     },
     "metadata": {},
     "execution_count": 225
    }
   ],
   "source": [
    "college = pd.read_csv(\"./PandasCookbook_Code/data/college.csv\", index_col=\"INSTNM\")\n",
    "# Prendo colonne UGDS_\n",
    "college_ugds_ = college.filter(like=\"UGDS_\")\n",
    "college_ugds_.head(2)"
   ]
  },
  {
   "cell_type": "code",
   "execution_count": 226,
   "metadata": {},
   "outputs": [
    {
     "output_type": "execute_result",
     "data": {
      "text/plain": "UGDS_WHITE    0\nUGDS_BLACK    0\nUGDS_HISP     0\nUGDS_ASIAN    0\nUGDS_AIAN     0\nUGDS_NHPI     0\nUGDS_2MOR     0\nUGDS_NRA      0\nUGDS_UNKN     0\ndtype: int64"
     },
     "metadata": {},
     "execution_count": 226
    }
   ],
   "source": [
    "# Cerco college con valori tutti nulli\n",
    "college_ugds_.isnull().sum(axis=1).sort_values(ascending=False)\n",
    "# Rimuovo tutte le righe con i valori tutti nulli\n",
    "college_ugds_ = college_ugds_.dropna(how=\"all\")\n",
    "college_ugds_.isnull().sum()"
   ]
  },
  {
   "cell_type": "code",
   "execution_count": 227,
   "metadata": {},
   "outputs": [
    {
     "output_type": "stream",
     "name": "stdout",
     "text": "<class 'pandas.core.series.Series'> 28 \n color                    Color\ndirector_name    James Cameron\nName: Avatar, dtype: object\n<class 'pandas.core.series.Series'> 28 \n color                    Color\ndirector_name    James Cameron\nName: Avatar, dtype: object\nTrue\n"
    }
   ],
   "source": [
    "# DataFrame - Prendi riga 0 e riga con indice \"Avatar\" -> Series\n",
    "series1 = movie.loc[\"Avatar\"]\n",
    "series2 = movie.iloc[0]\n",
    "\n",
    "print(type(series1), series1.size, \"\\n\", series1.head(2))\n",
    "print(type(series2), series2.size, \"\\n\", series2.head(2))\n",
    "print(series1.equals(series2))"
   ]
  },
  {
   "cell_type": "code",
   "execution_count": 228,
   "metadata": {},
   "outputs": [
    {
     "output_type": "stream",
     "name": "stdout",
     "text": "<class 'pandas.core.series.Series'> 4916 \n movie_title\nAvatar                                       2791.0\nPirates of the Caribbean: At World's End    46000.0\nName: actor_fb_likes, dtype: float64\n<class 'pandas.core.series.Series'> 4916 \n movie_title\nAvatar                                       2791.0\nPirates of the Caribbean: At World's End    46000.0\nName: actor_fb_likes, dtype: float64\nFalse\n"
    }
   ],
   "source": [
    "# DataFrame - Prendi colonna 0 e colonna con indice \"actor_fb_likes\"\n",
    "series1 = movie[\"actor_fb_likes\"]\n",
    "series2 = movie[movie.columns[0]]\n",
    "\n",
    "print(type(series1), series1.size, \"\\n\", series1.head(2))\n",
    "print(type(series2), series2.size, \"\\n\", series1.head(2))\n",
    "print(series1.equals(series2))"
   ]
  },
  {
   "cell_type": "code",
   "execution_count": 229,
   "metadata": {},
   "outputs": [
    {
     "output_type": "stream",
     "name": "stdout",
     "text": "James Cameron | James Cameron | 33000 | James Cameron\n"
    }
   ],
   "source": [
    "# DataFrame - Prendi prima riga e secondo valore\n",
    "value1 = movie.iloc[0, 1]\n",
    "value2 = movie.loc[movie.index[0]][1]\n",
    "value3 = movie.loc[\"Avatar\", \"movie_facebook_likes\"]\n",
    "value4 = movie.loc[movie.index[0], movie.columns[1]]\n",
    "\n",
    "print(value1,\"|\", value2,\"|\", value3,\"|\", value4)"
   ]
  },
  {
   "cell_type": "code",
   "execution_count": 240,
   "metadata": {},
   "outputs": [
    {
     "output_type": "execute_result",
     "data": {
      "text/plain": "                          loss  color   director_name  num_critic_for_reviews  \\\nmovie_title                                                                     \nSpectre            -44925825.0  Color      Sam Mendes                   602.0   \nJohn Carter       -190641321.0  Color  Andrew Stanton                   462.0   \nTangled            -59192738.0  Color    Nathan Greno                   324.0   \nSuperman Returns    -8930592.0  Color    Bryan Singer                   434.0   \nQuantum of Solace  -31631573.0  Color    Marc Forster                   403.0   \n\n                   duration  director_facebook_likes  actor_3_facebook_likes  \\\nmovie_title                                                                    \nSpectre               148.0                      0.0                   161.0   \nJohn Carter           132.0                    475.0                   530.0   \nTangled               100.0                     15.0                   284.0   \nSuperman Returns      169.0                      0.0                   903.0   \nQuantum of Solace     106.0                    395.0                   393.0   \n\n                      actor_2_name  actor_1_facebook_likes        gross  ...  \\\nmovie_title                                                              ...   \nSpectre               Rory Kinnear                 11000.0  200074175.0  ...   \nJohn Carter        Samantha Morton                   640.0   73058679.0  ...   \nTangled               Donna Murphy                   799.0  200807262.0  ...   \nSuperman Returns     Marlon Brando                 18000.0  200069408.0  ...   \nQuantum of Solace  Mathieu Amalric                   451.0  168368427.0  ...   \n\n                  language country  content_rating       budget title_year  \\\nmovie_title                                                                  \nSpectre            English      UK           PG-13  245000000.0     2015.0   \nJohn Carter        English     USA           PG-13  263700000.0     2012.0   \nTangled            English     USA              PG  260000000.0     2010.0   \nSuperman Returns   English     USA           PG-13  209000000.0     2006.0   \nQuantum of Solace  English      UK           PG-13  200000000.0     2008.0   \n\n                   actor_2_facebook_likes imdb_score aspect_ratio  \\\nmovie_title                                                         \nSpectre                             393.0        6.8         2.35   \nJohn Carter                         632.0        6.6         2.35   \nTangled                             553.0        7.8         1.85   \nSuperman Returns                  10000.0        6.1         2.35   \nQuantum of Solace                   412.0        6.7         2.35   \n\n                   movie_facebook_likes actor_fb_likes  \nmovie_title                                             \nSpectre                           85000        11554.0  \nJohn Carter                       24000         1802.0  \nTangled                           29000         1636.0  \nSuperman Returns                      0        28903.0  \nQuantum of Solace                     0         1256.0  \n\n[5 rows x 29 columns]",
      "text/html": "<div>\n<style scoped>\n    .dataframe tbody tr th:only-of-type {\n        vertical-align: middle;\n    }\n\n    .dataframe tbody tr th {\n        vertical-align: top;\n    }\n\n    .dataframe thead th {\n        text-align: right;\n    }\n</style>\n<table border=\"1\" class=\"dataframe\">\n  <thead>\n    <tr style=\"text-align: right;\">\n      <th></th>\n      <th>loss</th>\n      <th>color</th>\n      <th>director_name</th>\n      <th>num_critic_for_reviews</th>\n      <th>duration</th>\n      <th>director_facebook_likes</th>\n      <th>actor_3_facebook_likes</th>\n      <th>actor_2_name</th>\n      <th>actor_1_facebook_likes</th>\n      <th>gross</th>\n      <th>...</th>\n      <th>language</th>\n      <th>country</th>\n      <th>content_rating</th>\n      <th>budget</th>\n      <th>title_year</th>\n      <th>actor_2_facebook_likes</th>\n      <th>imdb_score</th>\n      <th>aspect_ratio</th>\n      <th>movie_facebook_likes</th>\n      <th>actor_fb_likes</th>\n    </tr>\n    <tr>\n      <th>movie_title</th>\n      <th></th>\n      <th></th>\n      <th></th>\n      <th></th>\n      <th></th>\n      <th></th>\n      <th></th>\n      <th></th>\n      <th></th>\n      <th></th>\n      <th></th>\n      <th></th>\n      <th></th>\n      <th></th>\n      <th></th>\n      <th></th>\n      <th></th>\n      <th></th>\n      <th></th>\n      <th></th>\n      <th></th>\n    </tr>\n  </thead>\n  <tbody>\n    <tr>\n      <th>Spectre</th>\n      <td>-44925825.0</td>\n      <td>Color</td>\n      <td>Sam Mendes</td>\n      <td>602.0</td>\n      <td>148.0</td>\n      <td>0.0</td>\n      <td>161.0</td>\n      <td>Rory Kinnear</td>\n      <td>11000.0</td>\n      <td>200074175.0</td>\n      <td>...</td>\n      <td>English</td>\n      <td>UK</td>\n      <td>PG-13</td>\n      <td>245000000.0</td>\n      <td>2015.0</td>\n      <td>393.0</td>\n      <td>6.8</td>\n      <td>2.35</td>\n      <td>85000</td>\n      <td>11554.0</td>\n    </tr>\n    <tr>\n      <th>John Carter</th>\n      <td>-190641321.0</td>\n      <td>Color</td>\n      <td>Andrew Stanton</td>\n      <td>462.0</td>\n      <td>132.0</td>\n      <td>475.0</td>\n      <td>530.0</td>\n      <td>Samantha Morton</td>\n      <td>640.0</td>\n      <td>73058679.0</td>\n      <td>...</td>\n      <td>English</td>\n      <td>USA</td>\n      <td>PG-13</td>\n      <td>263700000.0</td>\n      <td>2012.0</td>\n      <td>632.0</td>\n      <td>6.6</td>\n      <td>2.35</td>\n      <td>24000</td>\n      <td>1802.0</td>\n    </tr>\n    <tr>\n      <th>Tangled</th>\n      <td>-59192738.0</td>\n      <td>Color</td>\n      <td>Nathan Greno</td>\n      <td>324.0</td>\n      <td>100.0</td>\n      <td>15.0</td>\n      <td>284.0</td>\n      <td>Donna Murphy</td>\n      <td>799.0</td>\n      <td>200807262.0</td>\n      <td>...</td>\n      <td>English</td>\n      <td>USA</td>\n      <td>PG</td>\n      <td>260000000.0</td>\n      <td>2010.0</td>\n      <td>553.0</td>\n      <td>7.8</td>\n      <td>1.85</td>\n      <td>29000</td>\n      <td>1636.0</td>\n    </tr>\n    <tr>\n      <th>Superman Returns</th>\n      <td>-8930592.0</td>\n      <td>Color</td>\n      <td>Bryan Singer</td>\n      <td>434.0</td>\n      <td>169.0</td>\n      <td>0.0</td>\n      <td>903.0</td>\n      <td>Marlon Brando</td>\n      <td>18000.0</td>\n      <td>200069408.0</td>\n      <td>...</td>\n      <td>English</td>\n      <td>USA</td>\n      <td>PG-13</td>\n      <td>209000000.0</td>\n      <td>2006.0</td>\n      <td>10000.0</td>\n      <td>6.1</td>\n      <td>2.35</td>\n      <td>0</td>\n      <td>28903.0</td>\n    </tr>\n    <tr>\n      <th>Quantum of Solace</th>\n      <td>-31631573.0</td>\n      <td>Color</td>\n      <td>Marc Forster</td>\n      <td>403.0</td>\n      <td>106.0</td>\n      <td>395.0</td>\n      <td>393.0</td>\n      <td>Mathieu Amalric</td>\n      <td>451.0</td>\n      <td>168368427.0</td>\n      <td>...</td>\n      <td>English</td>\n      <td>UK</td>\n      <td>PG-13</td>\n      <td>200000000.0</td>\n      <td>2008.0</td>\n      <td>412.0</td>\n      <td>6.7</td>\n      <td>2.35</td>\n      <td>0</td>\n      <td>1256.0</td>\n    </tr>\n  </tbody>\n</table>\n<p>5 rows × 29 columns</p>\n</div>"
     },
     "metadata": {},
     "execution_count": 240
    }
   ],
   "source": [
    "# DataFrame - Prendi tutti i film che hanno perso soldi inserendo come prima colonna la perdita\n",
    "movie_broke = movie[movie[\"gross\"]-movie[\"budget\"]<0]\n",
    "movie_broke.insert(0, \"loss\", movie_broke[\"gross\"]-movie_broke[\"budget\"])\n",
    "movie_broke.head()"
   ]
  },
  {
   "cell_type": "code",
   "execution_count": null,
   "metadata": {},
   "outputs": [],
   "source": [
    "100"
   ]
  }
 ]
}